{
 "cells": [
  {
   "cell_type": "markdown",
   "metadata": {},
   "source": [
    "<b>Resources</b>\n",
    "\n",
    "visualgo.net\n",
    "\n",
    "sorting-algorithms.com\n",
    "\n",
    "wikipedia"
   ]
  },
  {
   "cell_type": "markdown",
   "metadata": {},
   "source": [
    "<b>Bubble Sort</b> : \n",
    "\n",
    "largest element bubble to top (end)\n",
    "\n",
    "multiple passes through a list. Compares adjacent items and exchanges those that are out of order"
   ]
  },
  {
   "cell_type": "code",
   "execution_count": 1,
   "metadata": {},
   "outputs": [
    {
     "data": {
      "text/plain": [
       "[3, 2, 1]"
      ]
     },
     "execution_count": 1,
     "metadata": {},
     "output_type": "execute_result"
    }
   ],
   "source": [
    "arr = [1,2,3,4]\n",
    "list(range(len(arr)-1,0,-1)) #len, to 0, step -1"
   ]
  },
  {
   "cell_type": "code",
   "execution_count": 2,
   "metadata": {},
   "outputs": [
    {
     "data": {
      "text/plain": [
       "[3, 2, 1]"
      ]
     },
     "execution_count": 2,
     "metadata": {},
     "output_type": "execute_result"
    }
   ],
   "source": [
    "arr = [5,3,7,2]\n",
    "list(range(len(arr)-1,0,-1))"
   ]
  },
  {
   "cell_type": "code",
   "execution_count": 3,
   "metadata": {},
   "outputs": [
    {
     "data": {
      "text/plain": [
       "[4, 3, 2, 1]"
      ]
     },
     "execution_count": 3,
     "metadata": {},
     "output_type": "execute_result"
    }
   ],
   "source": [
    "arr = [5,3,7,2]\n",
    "list(range(len(arr),0,-1))"
   ]
  },
  {
   "cell_type": "code",
   "execution_count": 6,
   "metadata": {},
   "outputs": [],
   "source": [
    "def bubble_sort(arr):\n",
    "    for n in range(len(arr)-1,0,-1):\n",
    "        for k in range(n):\n",
    "            \n",
    "            if arr[k] > arr[k+1]:\n",
    "                temp = arr[k]\n",
    "                arr[k] = arr[k+1]\n",
    "                arr[k+1] = temp"
   ]
  },
  {
   "cell_type": "code",
   "execution_count": 7,
   "metadata": {},
   "outputs": [
    {
     "data": {
      "text/plain": [
       "[2, 3, 5, 7]"
      ]
     },
     "execution_count": 7,
     "metadata": {},
     "output_type": "execute_result"
    }
   ],
   "source": [
    "arr = [5,3,7,2]\n",
    "\n",
    "bubble_sort(arr)\n",
    "arr"
   ]
  },
  {
   "cell_type": "code",
   "execution_count": 9,
   "metadata": {},
   "outputs": [
    {
     "data": {
      "text/plain": [
       "[3, 2, 1]"
      ]
     },
     "execution_count": 9,
     "metadata": {},
     "output_type": "execute_result"
    }
   ],
   "source": [
    "arr = [5,3,7,2]\n",
    "list(range(len(arr)-1,0,-1))"
   ]
  },
  {
   "cell_type": "code",
   "execution_count": 11,
   "metadata": {},
   "outputs": [],
   "source": [
    "def bubble_sort(arr):\n",
    "    for n in range(len(arr)-1,0,-1):\n",
    "        print('n',n)\n",
    "        for k in range(n):\n",
    "            print('k',k)\n",
    "            if arr[k] > arr[k+1]:\n",
    "                temp = arr[k]\n",
    "                arr[k] = arr[k+1]\n",
    "                arr[k+1] = temp"
   ]
  },
  {
   "cell_type": "code",
   "execution_count": 12,
   "metadata": {},
   "outputs": [
    {
     "name": "stdout",
     "output_type": "stream",
     "text": [
      "n 3\n",
      "k 0\n",
      "k 1\n",
      "k 2\n",
      "n 2\n",
      "k 0\n",
      "k 1\n",
      "n 1\n",
      "k 0\n"
     ]
    }
   ],
   "source": [
    "arr = [5,3,7,2]\n",
    "\n",
    "bubble_sort(arr)"
   ]
  },
  {
   "cell_type": "code",
   "execution_count": null,
   "metadata": {},
   "outputs": [],
   "source": []
  },
  {
   "cell_type": "markdown",
   "metadata": {},
   "source": [
    "<b>Selection Sort</b>\n",
    "\n",
    "One exchange per pass. Improvement to bubble sort by reducing no of exchange. \n",
    "\n",
    "Looks for the largest value throughout and places in the location.\n",
    "\n",
    "n-1 passes to place n items"
   ]
  },
  {
   "cell_type": "code",
   "execution_count": 14,
   "metadata": {},
   "outputs": [],
   "source": [
    "def selection_sort(arr):\n",
    "    for fillslot in range(len(arr)-1,0,-1):\n",
    "        positionOfMax = 0\n",
    "        \n",
    "        for location in range(1,fillslot+1):\n",
    "            if arr[positionOfMax] < arr[location]:\n",
    "                positionOfMax=location\n",
    "                \n",
    "        temp = arr[fillslot]\n",
    "        arr[fillslot] = arr[positionOfMax]\n",
    "        arr[positionOfMax] = temp"
   ]
  },
  {
   "cell_type": "code",
   "execution_count": 15,
   "metadata": {},
   "outputs": [
    {
     "data": {
      "text/plain": [
       "[1, 3, 5, 8, 10]"
      ]
     },
     "execution_count": 15,
     "metadata": {},
     "output_type": "execute_result"
    }
   ],
   "source": [
    "arr = [8,5,3,10,1]\n",
    "\n",
    "selection_sort(arr)\n",
    "arr"
   ]
  },
  {
   "cell_type": "code",
   "execution_count": null,
   "metadata": {},
   "outputs": [],
   "source": []
  },
  {
   "cell_type": "markdown",
   "metadata": {},
   "source": [
    "<b>Insertion Sort</b>\n",
    "\n",
    "maintains sorted sublist in lower positions of the list\n",
    "\n",
    "each new item is then inserted back into previous sublist to make larger\n",
    "\n",
    "start sublist - position 0, insert one item and shift greater items to right"
   ]
  },
  {
   "cell_type": "code",
   "execution_count": 16,
   "metadata": {},
   "outputs": [],
   "source": [
    "def insertion_sort(arr):\n",
    "    for i in range(1,len(arr)):\n",
    "        currentVal = arr[i]\n",
    "        position = i\n",
    "        \n",
    "        while position > 0 and arr[position-1] > currentVal: #arr[position-1] > arr[position]\n",
    "            arr[position] = arr[position-1]\n",
    "            position = position-1\n",
    "        \n",
    "        arr[position] = currentVal  #shift largest to right and place element to the position"
   ]
  },
  {
   "cell_type": "code",
   "execution_count": 17,
   "metadata": {},
   "outputs": [
    {
     "data": {
      "text/plain": [
       "[1, 2, 2, 4, 4, 6, 7, 9, 11, 13, 23]"
      ]
     },
     "execution_count": 17,
     "metadata": {},
     "output_type": "execute_result"
    }
   ],
   "source": [
    "arr = [4,6,2,7,4,1,9,11,23,13,2]\n",
    "\n",
    "insertion_sort(arr)\n",
    "arr"
   ]
  },
  {
   "cell_type": "code",
   "execution_count": null,
   "metadata": {},
   "outputs": [],
   "source": []
  },
  {
   "cell_type": "markdown",
   "metadata": {},
   "source": [
    "<b>Shell Sort</b>\n",
    "\n",
    "Improve insertion sort by breaking original list into number of smaller sublists. sublist use insertion sort.\n",
    "\n",
    "uses increment i (called as gap) to create sublist "
   ]
  },
  {
   "cell_type": "code",
   "execution_count": 30,
   "metadata": {},
   "outputs": [],
   "source": [
    "def shell_sort(arr):\n",
    "    sublistcount = len(arr)//2\n",
    "    \n",
    "    while sublistcount > 0:\n",
    "        for start in range(sublistcount):\n",
    "            gap_insertion_sort(arr, start, sublistcount)\n",
    "            \n",
    "        sublistcount = sublistcount // 2\n",
    "        \n",
    "def gap_insertion_sort(arr, start, gap):\n",
    "    print('arr',arr,'start',start,'gap',gap)\n",
    "    for i in range(start+gap,len(arr),gap):\n",
    "        currentvalue = arr[i]\n",
    "        position = i\n",
    "        print('currentvalue', currentvalue, 'position', position)\n",
    "        \n",
    "        while position >= gap and arr[position-gap]>currentvalue:\n",
    "            arr[position]=arr[position-gap]\n",
    "            position = position - gap\n",
    "            \n",
    "        arr[position]=currentvalue"
   ]
  },
  {
   "cell_type": "code",
   "execution_count": 31,
   "metadata": {},
   "outputs": [
    {
     "name": "stdout",
     "output_type": "stream",
     "text": [
      "arr [45, 67, 23, 45, 21, 24, 7, 2, 6, 4, 90] start 0 gap 5\n",
      "currentvalue 24 position 5\n",
      "currentvalue 90 position 10\n",
      "arr [24, 67, 23, 45, 21, 45, 7, 2, 6, 4, 90] start 1 gap 5\n",
      "currentvalue 7 position 6\n",
      "arr [24, 7, 23, 45, 21, 45, 67, 2, 6, 4, 90] start 2 gap 5\n",
      "currentvalue 2 position 7\n",
      "arr [24, 7, 2, 45, 21, 45, 67, 23, 6, 4, 90] start 3 gap 5\n",
      "currentvalue 6 position 8\n",
      "arr [24, 7, 2, 6, 21, 45, 67, 23, 45, 4, 90] start 4 gap 5\n",
      "currentvalue 4 position 9\n",
      "arr [24, 7, 2, 6, 4, 45, 67, 23, 45, 21, 90] start 0 gap 2\n",
      "currentvalue 2 position 2\n",
      "currentvalue 4 position 4\n",
      "currentvalue 67 position 6\n",
      "currentvalue 45 position 8\n",
      "currentvalue 90 position 10\n",
      "arr [2, 7, 4, 6, 24, 45, 45, 23, 67, 21, 90] start 1 gap 2\n",
      "currentvalue 6 position 3\n",
      "currentvalue 45 position 5\n",
      "currentvalue 23 position 7\n",
      "currentvalue 21 position 9\n",
      "arr [2, 6, 4, 7, 24, 21, 45, 23, 67, 45, 90] start 0 gap 1\n",
      "currentvalue 6 position 1\n",
      "currentvalue 4 position 2\n",
      "currentvalue 7 position 3\n",
      "currentvalue 24 position 4\n",
      "currentvalue 21 position 5\n",
      "currentvalue 45 position 6\n",
      "currentvalue 23 position 7\n",
      "currentvalue 67 position 8\n",
      "currentvalue 45 position 9\n",
      "currentvalue 90 position 10\n"
     ]
    },
    {
     "data": {
      "text/plain": [
       "[2, 4, 6, 7, 21, 23, 24, 45, 45, 67, 90]"
      ]
     },
     "execution_count": 31,
     "metadata": {},
     "output_type": "execute_result"
    }
   ],
   "source": [
    "arr = [45,67,23,45,21,24,7,2,6,4,90]\n",
    "shell_sort(arr)\n",
    "arr"
   ]
  },
  {
   "cell_type": "code",
   "execution_count": 32,
   "metadata": {},
   "outputs": [],
   "source": [
    "def shell_sort(arr):\n",
    "    sublistcount = len(arr)//2\n",
    "    while sublistcount > 0:\n",
    "        for start in range(sublistcount):\n",
    "            gap_insertion_sort(arr, start, sublistcount)\n",
    "            \n",
    "        sublistcount = sublistcount // 2\n",
    "        \n",
    "def gap_insertion_sort(arr, start, gap):\n",
    "    for i in range(start+gap,len(arr),gap):\n",
    "        currentvalue = arr[i]\n",
    "        position = i\n",
    "        while position >= gap and arr[position-gap]>currentvalue:\n",
    "            arr[position]=arr[position-gap]\n",
    "            position = position - gap\n",
    "        arr[position]=currentvalue"
   ]
  },
  {
   "cell_type": "code",
   "execution_count": 33,
   "metadata": {},
   "outputs": [
    {
     "data": {
      "text/plain": [
       "[2, 4, 6, 7, 21, 23, 24, 45, 45, 67, 90]"
      ]
     },
     "execution_count": 33,
     "metadata": {},
     "output_type": "execute_result"
    }
   ],
   "source": [
    "arr = [45,67,23,45,21,24,7,2,6,4,90]\n",
    "shell_sort(arr)\n",
    "arr"
   ]
  },
  {
   "cell_type": "code",
   "execution_count": null,
   "metadata": {},
   "outputs": [],
   "source": []
  }
 ],
 "metadata": {
  "kernelspec": {
   "display_name": "Python 3",
   "language": "python",
   "name": "python3"
  },
  "language_info": {
   "codemirror_mode": {
    "name": "ipython",
    "version": 3
   },
   "file_extension": ".py",
   "mimetype": "text/x-python",
   "name": "python",
   "nbconvert_exporter": "python",
   "pygments_lexer": "ipython3",
   "version": "3.6.4"
  }
 },
 "nbformat": 4,
 "nbformat_minor": 2
}
