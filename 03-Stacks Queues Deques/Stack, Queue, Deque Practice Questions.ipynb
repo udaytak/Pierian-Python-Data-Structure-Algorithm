{
 "cells": [
  {
   "cell_type": "markdown",
   "metadata": {},
   "source": [
    "<b> Balanced Parentheses Check </b>\n",
    "\n",
    "Problem Statement\n",
    "\n",
    "Given a string of opening and closing parentheses, check whether it’s balanced. We have 3 types of parentheses: round brackets: (), square brackets: [], and curly brackets: {}. Assume that the string doesn’t contain any other character than these, no spaces words or numbers. As a reminder, balanced parentheses require every opening parenthesis to be closed in the reverse order opened. For example ‘([])’ is balanced but ‘([)]’ is not.\n",
    "\n",
    "You can assume the input string has no spaces."
   ]
  },
  {
   "cell_type": "code",
   "execution_count": 85,
   "metadata": {},
   "outputs": [],
   "source": [
    "class Stack:\n",
    "    def __init__(self):\n",
    "        self.items=[]\n",
    "        \n",
    "    def push(self,item):\n",
    "        self.items.append(item)\n",
    "        \n",
    "    def pop(self):\n",
    "        return self.items.pop()\n",
    "    \n",
    "    def size(self):\n",
    "        return len(self.items)\n",
    "    \n",
    "    def peek(self):\n",
    "        return self.items[len(self.items)-1]\n",
    "    \n",
    "    def isEmpty(self):\n",
    "        return self.items==[]"
   ]
  },
  {
   "cell_type": "code",
   "execution_count": 86,
   "metadata": {},
   "outputs": [],
   "source": [
    "def BalanceBracket2(input_str):\n",
    "\n",
    "    s= Stack()\n",
    "    close_bracket_list=[')',']','}']\n",
    "    \n",
    "    if len(input_str)%2!=0:\n",
    "        return False\n",
    "    \n",
    "    for bracket in input_str:\n",
    "           \n",
    "        if bracket not in close_bracket_list:\n",
    "            s.push(bracket)\n",
    "        else:\n",
    "            close_bracket = s.pop()\n",
    "            \n",
    "        if(bracket == ')' and close_bracket != '('):\n",
    "            return False\n",
    "        elif(bracket == ']' and close_bracket != '['):\n",
    "            return False\n",
    "        elif(bracket == '}' and close_bracket != '{'):\n",
    "            return False\n",
    "        else:\n",
    "            continue\n",
    "            \n",
    "    return s.isEmpty()"
   ]
  },
  {
   "cell_type": "code",
   "execution_count": 87,
   "metadata": {},
   "outputs": [
    {
     "data": {
      "text/plain": [
       "True"
      ]
     },
     "execution_count": 87,
     "metadata": {},
     "output_type": "execute_result"
    }
   ],
   "source": [
    "BalanceCheck('[]')"
   ]
  },
  {
   "cell_type": "code",
   "execution_count": 99,
   "metadata": {},
   "outputs": [],
   "source": [
    "def BalanceBracket(Input_String):\n",
    "    '''\n",
    "        Input: string - parenthesis combination\n",
    "        Output: Bool\n",
    "    '''\n",
    "    \n",
    "    stack_obj = Stack()\n",
    "    open_paren = set('({[')\n",
    "    paren = ''\n",
    "    \n",
    "    matches_paren = set([('(',')'),('[',']'),('{','}')])\n",
    "    \n",
    "    for paren in Input_String:\n",
    "        if paren in open_paren:\n",
    "            stack_obj.push(paren)\n",
    "            stack_obj.peek()\n",
    "        elif stack_obj.isEmpty():\n",
    "            return False\n",
    "        else:\n",
    "            stack_paren = stack_obj.pop()\n",
    "            if(stack_paren,paren) in matches_paren:\n",
    "                continue\n",
    "            else: \n",
    "                return False\n",
    "    return stack_obj.isEmpty()"
   ]
  },
  {
   "cell_type": "code",
   "execution_count": 100,
   "metadata": {},
   "outputs": [
    {
     "data": {
      "text/plain": [
       "False"
      ]
     },
     "execution_count": 100,
     "metadata": {},
     "output_type": "execute_result"
    }
   ],
   "source": [
    "BalanceBracket('[](){([[[]]])}(')"
   ]
  },
  {
   "cell_type": "code",
   "execution_count": 101,
   "metadata": {},
   "outputs": [
    {
     "name": "stdout",
     "output_type": "stream",
     "text": [
      "All tests are passed!\n"
     ]
    }
   ],
   "source": [
    "from nose.tools import assert_equal\n",
    "\n",
    "class TestBalanceBracket(object):\n",
    "    \n",
    "    def test(self, sol):\n",
    "        assert_equal(sol('[](){([[[]]])}('),False)\n",
    "        assert_equal(sol('[{{{(())}}}]((()))'),True)\n",
    "        assert_equal(sol('[[[]])]'),False)\n",
    "        print('All tests are passed!')\n",
    "        \n",
    "tbb = TestBalanceBracket()\n",
    "tbb.test(BalanceBracket)"
   ]
  },
  {
   "cell_type": "code",
   "execution_count": null,
   "metadata": {},
   "outputs": [],
   "source": []
  },
  {
   "cell_type": "code",
   "execution_count": null,
   "metadata": {},
   "outputs": [],
   "source": []
  },
  {
   "cell_type": "markdown",
   "metadata": {},
   "source": [
    "<b> Implement a Queue - Using Two Stacks </b>\n",
    "\n",
    "Given the Stack class below, implement a Queue class using two stacks!  Use a Python list data structure as your Stack."
   ]
  },
  {
   "cell_type": "code",
   "execution_count": 103,
   "metadata": {},
   "outputs": [],
   "source": [
    "class Queue2Stacks2(object):\n",
    "    \n",
    "    def __init__(self):\n",
    "        # Two Stacks\n",
    "        self.in_stack = []\n",
    "        self.out_stack = []\n",
    "     \n",
    "    def enqueue(self, element):\n",
    "        # FILL OUT CODE HERE\n",
    "        self.in_stack.append(element)\n",
    "    \n",
    "    def dequeue(self):\n",
    "        \n",
    "        # FILL OUT CODE HERE\n",
    "        if not self.out_stack:\n",
    "            while self.in_stack:\n",
    "                self.out_stack.append(self.in_stack.pop())\n",
    "        return self.out_stack.pop()\n",
    "        pass"
   ]
  },
  {
   "cell_type": "code",
   "execution_count": 108,
   "metadata": {},
   "outputs": [],
   "source": [
    "class Queue2Stacks(object):\n",
    "    \n",
    "    def __init__(self):\n",
    "        self.in_stack = []\n",
    "        self.out_stack = []\n",
    "        \n",
    "    def enqueue(self, item):\n",
    "        self.in_stack.append(item)\n",
    "        \n",
    "    def dequeue(self):\n",
    "        if self.out_stack == []:\n",
    "            while self.in_stack:\n",
    "                self.out_stack.append(self.in_stack.pop())\n",
    "        return self.out_stack.pop()\n",
    "    \n",
    "    def size(self):\n",
    "        return (len(self.in_stack) + len(self.out_stack))"
   ]
  },
  {
   "cell_type": "code",
   "execution_count": 111,
   "metadata": {},
   "outputs": [
    {
     "name": "stdout",
     "output_type": "stream",
     "text": [
      "Size:  1\n",
      "Size:  2\n",
      "Size:  3\n",
      "Size:  4\n",
      "Size:  5\n",
      "5\n",
      "Size:  0\n",
      "4\n",
      "Size:  1\n",
      "3\n",
      "Size:  2\n",
      "2\n",
      "Size:  3\n",
      "1\n",
      "Size:  4\n"
     ]
    }
   ],
   "source": [
    "\"\"\"\n",
    "RUN THIS CELL TO CHECK THAT YOUR SOLUTION OUTPUT MAKES SENSE AND BEHAVES AS A QUEUE\n",
    "\"\"\"\n",
    "q = Queue2Stacks()\n",
    "\n",
    "for i in range(5):\n",
    "    q.enqueue(i)\n",
    "    print('Size: ',q.size())\n",
    "    \n",
    "for i in range(5):\n",
    "    print(q.size())\n",
    "    print('Size: ',q.dequeue())"
   ]
  },
  {
   "cell_type": "code",
   "execution_count": null,
   "metadata": {},
   "outputs": [],
   "source": []
  }
 ],
 "metadata": {
  "kernelspec": {
   "display_name": "Python 3",
   "language": "python",
   "name": "python3"
  },
  "language_info": {
   "codemirror_mode": {
    "name": "ipython",
    "version": 3
   },
   "file_extension": ".py",
   "mimetype": "text/x-python",
   "name": "python",
   "nbconvert_exporter": "python",
   "pygments_lexer": "ipython3",
   "version": "3.6.4"
  }
 },
 "nbformat": 4,
 "nbformat_minor": 2
}
