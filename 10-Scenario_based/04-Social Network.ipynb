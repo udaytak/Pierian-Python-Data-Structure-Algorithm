{
 "cells": [
  {
   "cell_type": "markdown",
   "metadata": {},
   "source": [
    "<b>Remove duplicate from string</b>"
   ]
  },
  {
   "cell_type": "code",
   "execution_count": 9,
   "metadata": {},
   "outputs": [],
   "source": [
    "def remove_duplicate(string):\n",
    "    seen = set()\n",
    "    result = []\n",
    "    \n",
    "    for s in string:\n",
    "        if s not in seen:\n",
    "            seen.add(s)\n",
    "            result.append(s)\n",
    "    return ''.join(result)"
   ]
  },
  {
   "cell_type": "code",
   "execution_count": 11,
   "metadata": {},
   "outputs": [
    {
     "name": "stdout",
     "output_type": "stream",
     "text": [
      "All tests are passed!\n"
     ]
    }
   ],
   "source": [
    "from nose.tools import assert_equal\n",
    "\n",
    "class TestDuplicate(object):\n",
    "    def test(self,sol):\n",
    "        assert_equal(sol('tree traversal'),'tre avsl')\n",
    "        print('All tests are passed!')\n",
    "        \n",
    "rds = TestDuplicate()\n",
    "rds.test(remove_duplicate)"
   ]
  },
  {
   "cell_type": "code",
   "execution_count": null,
   "metadata": {},
   "outputs": [],
   "source": []
  },
  {
   "cell_type": "markdown",
   "metadata": {},
   "source": [
    "<b> Sum of number, in list of integers</b>\n",
    "\n",
    "Given a list of integers and a target number, write a function that returns a boolean indicating if its possible to sum two integers from the list to reach the target number"
   ]
  },
  {
   "cell_type": "code",
   "execution_count": 20,
   "metadata": {},
   "outputs": [],
   "source": [
    "def sum_number(lst, target):\n",
    "    seen = set()\n",
    "    for n in lst:\n",
    "        n2 = target-n\n",
    "        \n",
    "        if n2 in seen:\n",
    "            return True\n",
    "        seen.add(n)\n",
    "        \n",
    "    return False"
   ]
  },
  {
   "cell_type": "code",
   "execution_count": 21,
   "metadata": {},
   "outputs": [
    {
     "name": "stdout",
     "output_type": "stream",
     "text": [
      "All tests are passed!\n"
     ]
    }
   ],
   "source": [
    "from nose.tools import assert_equal\n",
    "\n",
    "class Test_Sum_Number(object):\n",
    "    def test(self,sol):\n",
    "        assert_equal(sol([1,3,5,1,7],4),True)\n",
    "        assert_equal(sol([1,3,5,1,7],14),False)\n",
    "        print('All tests are passed!')\n",
    "\n",
    "sn = Test_Sum_Number()\n",
    "sn.test(sum_number)"
   ]
  },
  {
   "cell_type": "code",
   "execution_count": null,
   "metadata": {},
   "outputs": [],
   "source": []
  },
  {
   "cell_type": "markdown",
   "metadata": {},
   "source": [
    "<b>Unique id</b>\n",
    "\n",
    "Given a list of account ID numbers (integers) which contains duplicates , find the one unique integer. (the list is guaranteed to only have one unique (non-duplicated) integer"
   ]
  },
  {
   "cell_type": "code",
   "execution_count": 31,
   "metadata": {},
   "outputs": [
    {
     "name": "stdout",
     "output_type": "stream",
     "text": [
      "1 ^ 1 =  0\n",
      "2 ^ 2 =  0\n",
      "2 ^ 1 =  3\n",
      "2 ^ 1 ^ 2 =  1\n",
      "2 ^ 1 ^ 3 =  0\n"
     ]
    }
   ],
   "source": [
    "#X-OR\n",
    "print('1 ^ 1 = ',1 ^ 1)\n",
    "print('2 ^ 2 = ',2 ^ 2)\n",
    "print('2 ^ 1 = ',2 ^ 1)\n",
    "print('2 ^ 1 ^ 2 = ',3 ^ 2)\n",
    "print('2 ^ 1 ^ 3 = ',2 ^ 1 ^ 3)"
   ]
  },
  {
   "cell_type": "code",
   "execution_count": 32,
   "metadata": {},
   "outputs": [],
   "source": [
    "def unique_id2(lst):\n",
    "    unique = 0\n",
    "    \n",
    "    for i in lst:\n",
    "        unique ^= i #X-OR\n",
    "        \n",
    "    return unique"
   ]
  },
  {
   "cell_type": "code",
   "execution_count": null,
   "metadata": {},
   "outputs": [],
   "source": [
    "def unique_id(lst):\n",
    "    seen = set()\n",
    "    \n",
    "    for i in lst:\n",
    "        if i in seen:\n",
    "            seen.remove(i)"
   ]
  },
  {
   "cell_type": "code",
   "execution_count": 33,
   "metadata": {},
   "outputs": [
    {
     "name": "stdout",
     "output_type": "stream",
     "text": [
      "All tests are passed!\n"
     ]
    }
   ],
   "source": [
    "from nose.tools import assert_equal\n",
    "\n",
    "class Test_Unique(object):\n",
    "    def test(self,sol):\n",
    "        assert_equal(sol([1,2,3,3,2,1,4]),4)\n",
    "        print('All tests are passed!')\n",
    "        \n",
    "tu = Test_Unique()\n",
    "tu.test(unique_id)"
   ]
  },
  {
   "cell_type": "code",
   "execution_count": null,
   "metadata": {},
   "outputs": [],
   "source": []
  }
 ],
 "metadata": {
  "kernelspec": {
   "display_name": "Python 3",
   "language": "python",
   "name": "python3"
  },
  "language_info": {
   "codemirror_mode": {
    "name": "ipython",
    "version": 3
   },
   "file_extension": ".py",
   "mimetype": "text/x-python",
   "name": "python",
   "nbconvert_exporter": "python",
   "pygments_lexer": "ipython3",
   "version": "3.6.4"
  }
 },
 "nbformat": 4,
 "nbformat_minor": 2
}
