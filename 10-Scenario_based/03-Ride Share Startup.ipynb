{
 "cells": [
  {
   "cell_type": "markdown",
   "metadata": {},
   "source": [
    "<b> Largest of 3 integer from the list </b>\n",
    "\n",
    "Given a list of integers, find the largest product you could make from 3 integers in the list"
   ]
  },
  {
   "cell_type": "code",
   "execution_count": 3,
   "metadata": {},
   "outputs": [],
   "source": [
    "def largeProd3(lst):\n",
    "    high = max(lst[0],lst[1])\n",
    "    low = min(lst[0],lst[1])\n",
    "    \n",
    "    high_prod2 = lst[0]*lst[1]\n",
    "    low_prod2 = lst[0]*lst[1]\n",
    "    \n",
    "    high_prod3 = lst[0]*lst[1]*lst[2]\n",
    "    \n",
    "    for num in lst[2:]:\n",
    "        \n",
    "        high_prod3 = max(high_prod3, high_prod2*num, low_prod2*num)\n",
    "        \n",
    "        high_prod2 = max(high_prod2, high*num, low*num)\n",
    "        \n",
    "        low_prod2 = min(low_prod2, high*num, low*num)\n",
    "        \n",
    "        high = max(high, num)\n",
    "        \n",
    "        low = min(low, num)\n",
    "        \n",
    "    return high_prod3"
   ]
  },
  {
   "cell_type": "code",
   "execution_count": 6,
   "metadata": {},
   "outputs": [
    {
     "name": "stdout",
     "output_type": "stream",
     "text": [
      "All tests are passed!\n"
     ]
    }
   ],
   "source": [
    "from nose.tools import assert_equal\n",
    "\n",
    "class Test_LargeProduct3(object):\n",
    "    def test(self,sol):\n",
    "        assert_equal(sol([99,-82,82,40,75,-24,39, -82, 5, 30, -25, -94, 93, -23, 48, 50, 49,-81,41,63]),763092)\n",
    "        print('All tests are passed!')\n",
    "        \n",
    "lp = Test_LargeProduct3()\n",
    "lp.test(largeProd3)"
   ]
  },
  {
   "cell_type": "code",
   "execution_count": null,
   "metadata": {},
   "outputs": [],
   "source": []
  },
  {
   "cell_type": "code",
   "execution_count": null,
   "metadata": {},
   "outputs": [],
   "source": []
  }
 ],
 "metadata": {
  "kernelspec": {
   "display_name": "Python 3",
   "language": "python",
   "name": "python3"
  },
  "language_info": {
   "codemirror_mode": {
    "name": "ipython",
    "version": 3
   },
   "file_extension": ".py",
   "mimetype": "text/x-python",
   "name": "python",
   "nbconvert_exporter": "python",
   "pygments_lexer": "ipython3",
   "version": "3.6.4"
  }
 },
 "nbformat": 4,
 "nbformat_minor": 2
}
