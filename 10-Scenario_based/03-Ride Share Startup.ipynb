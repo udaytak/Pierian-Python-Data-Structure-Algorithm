{
 "cells": [
  {
   "cell_type": "markdown",
   "metadata": {},
   "source": [
    "<b> Largest of 3 integer from the list </b>\n",
    "\n",
    "Given a list of integers, find the largest product you could make from 3 integers in the list"
   ]
  },
  {
   "cell_type": "code",
   "execution_count": 3,
   "metadata": {},
   "outputs": [],
   "source": [
    "def largeProd3(lst):\n",
    "    high = max(lst[0],lst[1])\n",
    "    low = min(lst[0],lst[1])\n",
    "    \n",
    "    high_prod2 = lst[0]*lst[1]\n",
    "    low_prod2 = lst[0]*lst[1]\n",
    "    \n",
    "    high_prod3 = lst[0]*lst[1]*lst[2]\n",
    "    \n",
    "    for num in lst[2:]:\n",
    "        \n",
    "        high_prod3 = max(high_prod3, high_prod2*num, low_prod2*num)\n",
    "        \n",
    "        high_prod2 = max(high_prod2, high*num, low*num)\n",
    "        \n",
    "        low_prod2 = min(low_prod2, high*num, low*num)\n",
    "        \n",
    "        high = max(high, num)\n",
    "        \n",
    "        low = min(low, num)\n",
    "        \n",
    "    return high_prod3"
   ]
  },
  {
   "cell_type": "code",
   "execution_count": 6,
   "metadata": {},
   "outputs": [
    {
     "name": "stdout",
     "output_type": "stream",
     "text": [
      "All tests are passed!\n"
     ]
    }
   ],
   "source": [
    "from nose.tools import assert_equal\n",
    "\n",
    "class Test_LargeProduct3(object):\n",
    "    def test(self,sol):\n",
    "        assert_equal(sol([99,-82,82,40,75,-24,39, -82, 5, 30, -25, -94, 93, -23, 48, 50, 49,-81,41,63]),763092)\n",
    "        print('All tests are passed!')\n",
    "        \n",
    "lp = Test_LargeProduct3()\n",
    "lp.test(largeProd3)"
   ]
  },
  {
   "cell_type": "code",
   "execution_count": null,
   "metadata": {},
   "outputs": [],
   "source": []
  },
  {
   "cell_type": "markdown",
   "metadata": {},
   "source": [
    "<b>Coin change problem</b>\n",
    "\n",
    "Write a function that given a target amount of money and a list of possible coin denominations, returns the number of ways to make change for the target amount using the coin denominations"
   ]
  },
  {
   "cell_type": "code",
   "execution_count": 13,
   "metadata": {},
   "outputs": [],
   "source": [
    "def coin_denomination(amt, coins):\n",
    "    combinations = [1]+[0]*amt\n",
    "    \n",
    "    for coin in coins:\n",
    "        for c in range(coin,amt+1): #amt=5\n",
    "            print(\"c\",c)\n",
    "            print(\"coin\",coin)\n",
    "            combinations[c] += combinations[c-coin]\n",
    "        print(combinations)\n",
    "    \n",
    "    if amt == 0:\n",
    "        return 0\n",
    "    else:   \n",
    "        return (combinations[amt])"
   ]
  },
  {
   "cell_type": "code",
   "execution_count": 14,
   "metadata": {},
   "outputs": [
    {
     "name": "stdout",
     "output_type": "stream",
     "text": [
      "c 1\n",
      "coin 1\n",
      "c 2\n",
      "coin 1\n",
      "c 3\n",
      "coin 1\n",
      "c 4\n",
      "coin 1\n",
      "c 5\n",
      "coin 1\n",
      "[1, 1, 1, 1, 1, 1]\n",
      "c 2\n",
      "coin 2\n",
      "c 3\n",
      "coin 2\n",
      "c 4\n",
      "coin 2\n",
      "c 5\n",
      "coin 2\n",
      "[1, 1, 2, 2, 3, 3]\n",
      "c 5\n",
      "coin 5\n",
      "[1, 1, 2, 2, 3, 4]\n"
     ]
    },
    {
     "data": {
      "text/plain": [
       "4"
      ]
     },
     "execution_count": 14,
     "metadata": {},
     "output_type": "execute_result"
    }
   ],
   "source": [
    "coin_denomination(5, [1,2,5])"
   ]
  },
  {
   "cell_type": "code",
   "execution_count": 19,
   "metadata": {},
   "outputs": [],
   "source": [
    "def coin_denomination(amt, coins):\n",
    "    combinations = [1]+[0]*amt\n",
    "    \n",
    "    for coin in coins:\n",
    "        for c in range(coin,amt+1):\n",
    "            combinations[c] += combinations[c-coin]\n",
    "        print(combinations)\n",
    "    \n",
    "    if amt == 0:\n",
    "        return 0\n",
    "    else:   \n",
    "        return (combinations[amt])"
   ]
  },
  {
   "cell_type": "code",
   "execution_count": 20,
   "metadata": {},
   "outputs": [
    {
     "name": "stdout",
     "output_type": "stream",
     "text": [
      "[1, 1, 1, 1, 1, 1]\n",
      "[1, 1, 2, 2, 3, 3]\n",
      "[1, 1, 2, 2, 3, 4]\n",
      "[1, 1, 2, 2, 3, 4]\n"
     ]
    },
    {
     "data": {
      "text/plain": [
       "4"
      ]
     },
     "execution_count": 20,
     "metadata": {},
     "output_type": "execute_result"
    }
   ],
   "source": [
    "coin_denomination(5, [1,2,5])"
   ]
  },
  {
   "cell_type": "code",
   "execution_count": 23,
   "metadata": {},
   "outputs": [
    {
     "name": "stdout",
     "output_type": "stream",
     "text": [
      "All tests are passed!\n"
     ]
    }
   ],
   "source": [
    "from nose.tools import assert_equal\n",
    "\n",
    "class Test_Coin_Denom(object):\n",
    "    def test(self, sol):\n",
    "        assert_equal(sol(5, [1,2,5]), 4)\n",
    "        assert_equal(sol(100, [1, 2, 3]),884)\n",
    "        print('All tests are passed!')\n",
    "        \n",
    "cd = Test_Coin_Denom()\n",
    "cd.test(coin_denomination)"
   ]
  },
  {
   "cell_type": "code",
   "execution_count": null,
   "metadata": {},
   "outputs": [],
   "source": []
  },
  {
   "cell_type": "markdown",
   "metadata": {},
   "source": [
    "<b>BST validation</b>"
   ]
  },
  {
   "cell_type": "code",
   "execution_count": 27,
   "metadata": {},
   "outputs": [],
   "source": [
    "class Node:\n",
    "    def __init__(self, val=None):\n",
    "        self.val = val\n",
    "        self.left=None\n",
    "        self.right=None\n",
    "        \n",
    "INFINITY = float('infinity')\n",
    "NEG_INFINITY = float('-infinity')"
   ]
  },
  {
   "cell_type": "code",
   "execution_count": 28,
   "metadata": {},
   "outputs": [],
   "source": [
    "def isBST(tree, minVal = NEG_INFINITY, maxVal = INFINITY):\n",
    "    if tree == None:\n",
    "        return True\n",
    "    if not minVal <= tree.val <= maxVal:\n",
    "        return False\n",
    "    \n",
    "    return isBST(tree.left, minVal, tree.val) and isBST(tree.right, tree.val, maxVal)"
   ]
  },
  {
   "cell_type": "code",
   "execution_count": null,
   "metadata": {},
   "outputs": [],
   "source": []
  },
  {
   "cell_type": "code",
   "execution_count": 29,
   "metadata": {},
   "outputs": [],
   "source": [
    "#inorder\n",
    "def isBST2(tree, lastNode=[NEG_INFINITY]):\n",
    "    if tree is None:\n",
    "        return True\n",
    "    if not isBST2(tree.left, lastNode):\n",
    "        return False\n",
    "    if tree.val < lastNode[0]:\n",
    "        return False\n",
    "    lastNode[0]=tree.val\n",
    "    return isBST2(tree.right, lastNode)"
   ]
  },
  {
   "cell_type": "code",
   "execution_count": null,
   "metadata": {},
   "outputs": [],
   "source": []
  }
 ],
 "metadata": {
  "kernelspec": {
   "display_name": "Python 3",
   "language": "python",
   "name": "python3"
  },
  "language_info": {
   "codemirror_mode": {
    "name": "ipython",
    "version": 3
   },
   "file_extension": ".py",
   "mimetype": "text/x-python",
   "name": "python",
   "nbconvert_exporter": "python",
   "pygments_lexer": "ipython3",
   "version": "3.6.4"
  }
 },
 "nbformat": 4,
 "nbformat_minor": 2
}
