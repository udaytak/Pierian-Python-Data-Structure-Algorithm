{
 "cells": [
  {
   "cell_type": "markdown",
   "metadata": {},
   "source": [
    "<b>Stock Profit</b>\n",
    "\n",
    "<b>You've been given a list of historical stock prices for a single day for Amazon stock. The index of the list represents the timestamp, so the element at index of 0 is the initial price of the stock, the element at index 1 is the next recorded price of the stock for that day, etc. Your task is to write a function that will return the maximum profit possible from the purchase and sale of a single share of Amazon stock on that day. Keep in mind to try to make this as efficient as possible.</b>\n",
    "\n",
    "For example, if you were given the list of stock prices:\n",
    "\n",
    "prices = [12,11,15,3,10]\n",
    "\n",
    "Then your function would return the maximum possible profit, which would be 7 (buying at 3 and selling at 10)."
   ]
  },
  {
   "cell_type": "code",
   "execution_count": 1,
   "metadata": {},
   "outputs": [],
   "source": [
    "def stock_profit(price_arr):\n",
    "    \n",
    "    min_price = price_arr[0]\n",
    "    max_profit = 0\n",
    "    \n",
    "    for price in price_arr[1:]:\n",
    "        if price < min_price:\n",
    "            min_price = price\n",
    "        else:\n",
    "            profit = price - min_price\n",
    "            if profit > max_profit:\n",
    "                max_profit = profit\n",
    "                \n",
    "    return max_profit"
   ]
  },
  {
   "cell_type": "code",
   "execution_count": 2,
   "metadata": {},
   "outputs": [
    {
     "name": "stdout",
     "output_type": "stream",
     "text": [
      "All tests are passed!\n"
     ]
    }
   ],
   "source": [
    "from nose.tools import assert_equal\n",
    "\n",
    "class TestStocks(object):\n",
    "    def test(self,sol):\n",
    "        assert_equal(sol([12,11,15,3,10]),7)\n",
    "        assert_equal(sol([12,11,15,3,10,18]),15)\n",
    "        assert_equal(sol([1,12,11,15,3,10,18]),17)\n",
    "        assert_equal(sol([10,12,14,12,13,11,8,7,6,13,23,45,11,10]),39)\n",
    "        print('All tests are passed!')\n",
    "        \n",
    "ts = TestStocks()\n",
    "ts.test(stock_profit)"
   ]
  },
  {
   "cell_type": "code",
   "execution_count": 3,
   "metadata": {},
   "outputs": [
    {
     "data": {
      "text/plain": [
       "7"
      ]
     },
     "execution_count": 3,
     "metadata": {},
     "output_type": "execute_result"
    }
   ],
   "source": [
    "prices = [12,11,15,3,10]\n",
    "\n",
    "stock_profit(prices)"
   ]
  },
  {
   "cell_type": "code",
   "execution_count": null,
   "metadata": {},
   "outputs": [],
   "source": []
  },
  {
   "cell_type": "code",
   "execution_count": 4,
   "metadata": {},
   "outputs": [],
   "source": [
    "def profit(stock_prices):\n",
    "    min_stock_price = stock_prices[0]\n",
    "    \n",
    "    # Check length\n",
    "    if len(stock_prices) < 2:\n",
    "        raise Exception('Need at least two stock prices!')\n",
    "    \n",
    "    # Start off with an initial max profit\n",
    "    max_profit = stock_prices[1] - stock_prices[0]\n",
    "    \n",
    "    for price in stock_prices[1:]:\n",
    "        comparison_profit = price - min_stock_price\n",
    "        min_stock_price = min(min_stock_price,price)\n",
    "        max_profit = max(max_profit,comparison_profit)\n",
    "    return max_profit"
   ]
  },
  {
   "cell_type": "code",
   "execution_count": 5,
   "metadata": {},
   "outputs": [
    {
     "data": {
      "text/plain": [
       "39"
      ]
     },
     "execution_count": 5,
     "metadata": {},
     "output_type": "execute_result"
    }
   ],
   "source": [
    "profit([10,12,14,12,13,11,8,7,6,13,23,45,11,10])"
   ]
  },
  {
   "cell_type": "code",
   "execution_count": 6,
   "metadata": {},
   "outputs": [
    {
     "data": {
      "text/plain": [
       "-1"
      ]
     },
     "execution_count": 6,
     "metadata": {},
     "output_type": "execute_result"
    }
   ],
   "source": [
    "profit([30,22,21,5])"
   ]
  },
  {
   "cell_type": "code",
   "execution_count": 7,
   "metadata": {},
   "outputs": [
    {
     "ename": "Exception",
     "evalue": "Need at least two stock prices!",
     "output_type": "error",
     "traceback": [
      "\u001b[1;31m---------------------------------------------------------------------------\u001b[0m",
      "\u001b[1;31mException\u001b[0m                                 Traceback (most recent call last)",
      "\u001b[1;32m<ipython-input-7-fbb97400eb54>\u001b[0m in \u001b[0;36m<module>\u001b[1;34m()\u001b[0m\n\u001b[0;32m      1\u001b[0m \u001b[1;31m# Exception Raised\u001b[0m\u001b[1;33m\u001b[0m\u001b[1;33m\u001b[0m\u001b[0m\n\u001b[1;32m----> 2\u001b[1;33m \u001b[0mprofit\u001b[0m\u001b[1;33m(\u001b[0m\u001b[1;33m[\u001b[0m\u001b[1;36m1\u001b[0m\u001b[1;33m]\u001b[0m\u001b[1;33m)\u001b[0m\u001b[1;33m\u001b[0m\u001b[0m\n\u001b[0m",
      "\u001b[1;32m<ipython-input-4-dffab3d29421>\u001b[0m in \u001b[0;36mprofit\u001b[1;34m(stock_prices)\u001b[0m\n\u001b[0;32m      4\u001b[0m     \u001b[1;31m# Check length\u001b[0m\u001b[1;33m\u001b[0m\u001b[1;33m\u001b[0m\u001b[0m\n\u001b[0;32m      5\u001b[0m     \u001b[1;32mif\u001b[0m \u001b[0mlen\u001b[0m\u001b[1;33m(\u001b[0m\u001b[0mstock_prices\u001b[0m\u001b[1;33m)\u001b[0m \u001b[1;33m<\u001b[0m \u001b[1;36m2\u001b[0m\u001b[1;33m:\u001b[0m\u001b[1;33m\u001b[0m\u001b[0m\n\u001b[1;32m----> 6\u001b[1;33m         \u001b[1;32mraise\u001b[0m \u001b[0mException\u001b[0m\u001b[1;33m(\u001b[0m\u001b[1;34m'Need at least two stock prices!'\u001b[0m\u001b[1;33m)\u001b[0m\u001b[1;33m\u001b[0m\u001b[0m\n\u001b[0m\u001b[0;32m      7\u001b[0m \u001b[1;33m\u001b[0m\u001b[0m\n\u001b[0;32m      8\u001b[0m     \u001b[1;31m# Start off with an initial max profit\u001b[0m\u001b[1;33m\u001b[0m\u001b[1;33m\u001b[0m\u001b[0m\n",
      "\u001b[1;31mException\u001b[0m: Need at least two stock prices!"
     ]
    }
   ],
   "source": [
    "# Exception Raised\n",
    "profit([1])"
   ]
  },
  {
   "cell_type": "code",
   "execution_count": null,
   "metadata": {},
   "outputs": [],
   "source": []
  },
  {
   "cell_type": "markdown",
   "metadata": {},
   "source": [
    "<b>Array Multiplication Problem</b>\n",
    "\n",
    "Problem : \n",
    "- Given a list of integers, write a function that will return a list, in which for each index the element will be the product of all the integers except for the element at that index\n",
    "- For example, an input of [1,2,3,4] would return [24,12,8,6] by performing [2×3×4,1×3×4,1×2×4,1×2×3]\n",
    "\n",
    "Requirements : You can not use division in your answer! Meaning you can't simply multiply all the numbers and then divide by eahc element for each index!"
   ]
  },
  {
   "cell_type": "code",
   "execution_count": 8,
   "metadata": {},
   "outputs": [],
   "source": [
    "def mult_arr(arr):\n",
    "    helper_arr =[]\n",
    "    output = []\n",
    "    mult = 1\n",
    "    for i in arr:\n",
    "        helper_arr.append(arr[:i-1]+[1]+arr[i:])\n",
    "    for i in helper_arr:\n",
    "        for j in i:\n",
    "            mult *= j\n",
    "        output.append(mult)\n",
    "        mult = 1\n",
    "    return output"
   ]
  },
  {
   "cell_type": "code",
   "execution_count": 9,
   "metadata": {},
   "outputs": [
    {
     "data": {
      "text/plain": [
       "[24, 12, 8, 6]"
      ]
     },
     "execution_count": 9,
     "metadata": {},
     "output_type": "execute_result"
    }
   ],
   "source": [
    "arr =[1,2,3,4]\n",
    "mult_arr(arr)"
   ]
  },
  {
   "cell_type": "code",
   "execution_count": 10,
   "metadata": {},
   "outputs": [
    {
     "name": "stdout",
     "output_type": "stream",
     "text": [
      "All tests are passed!\n"
     ]
    }
   ],
   "source": [
    "from nose.tools import assert_equal\n",
    "\n",
    "class Test_Multi(object):\n",
    "    def test(self,sol):\n",
    "        assert_equal(sol([1,2,3,4]),[24, 12, 8, 6])\n",
    "        print('All tests are passed!')\n",
    "        \n",
    "tm = Test_Multi()\n",
    "tm.test(mult_arr)"
   ]
  },
  {
   "cell_type": "code",
   "execution_count": null,
   "metadata": {},
   "outputs": [],
   "source": []
  },
  {
   "cell_type": "code",
   "execution_count": 11,
   "metadata": {},
   "outputs": [],
   "source": [
    "def lst_prod(lst):\n",
    "    output = [None]*len(lst)\n",
    "    prod = 1\n",
    "    i = 0\n",
    "    \n",
    "    while i < len(lst):\n",
    "        output[i] = prod\n",
    "        prod *= lst[i] \n",
    "        i += 1\n",
    "        \n",
    "    prod = 1\n",
    "    i = len(lst)-1\n",
    "    \n",
    "    while i >= 0:\n",
    "        output[i]*= prod\n",
    "        prod *= lst[i]\n",
    "        i -= 1\n",
    "        \n",
    "    return output"
   ]
  },
  {
   "cell_type": "code",
   "execution_count": 12,
   "metadata": {},
   "outputs": [
    {
     "data": {
      "text/plain": [
       "[24, 12, 8, 6]"
      ]
     },
     "execution_count": 12,
     "metadata": {},
     "output_type": "execute_result"
    }
   ],
   "source": [
    "arr =[1,2,3,4]\n",
    "lst_prod(arr)"
   ]
  },
  {
   "cell_type": "code",
   "execution_count": null,
   "metadata": {},
   "outputs": [],
   "source": []
  },
  {
   "cell_type": "markdown",
   "metadata": {},
   "source": [
    "<b> Rectangle Overlap problem</b>\n",
    "\n",
    "Given two rectangles, determine if they overlap. If the rectangles do overlap, return the dictionary which describes the overlapping section"
   ]
  },
  {
   "cell_type": "code",
   "execution_count": null,
   "metadata": {},
   "outputs": [],
   "source": [
    "r1 = {\n",
    "    \n",
    "         # x and y coordinates of the bottom-left corner of the rectangle\n",
    "         'x': 2 , 'y': 4,\n",
    "         \n",
    "         # Width and Height of rectangle\n",
    "         'w':5,'h':12\n",
    "    }"
   ]
  },
  {
   "cell_type": "code",
   "execution_count": 69,
   "metadata": {},
   "outputs": [],
   "source": [
    "def calc_rect_overlap(r1,r2):\n",
    "    y_overlap, h_overlap = overlap_calc(r1['y'],r1['h'],r2['y'],r2['h'])\n",
    "    x_overlap, w_overlap = overlap_calc(r1['x'],r1['w'],r2['x'],r2['w'])\n",
    "    \n",
    "    if not w_overlap or not h_overlap:\n",
    "        print('No overlap')\n",
    "        return \n",
    "    return {'x':x_overlap, 'y':y_overlap, 'w':w_overlap, 'h':h_overlap}"
   ]
  },
  {
   "cell_type": "code",
   "execution_count": 70,
   "metadata": {},
   "outputs": [],
   "source": [
    "def overlap_calc(coord1,dim1,coord2,dim2):\n",
    "    greater = max(coord1, coord2)\n",
    "    lower = min(coord1+dim1, coord2+dim2)\n",
    "    if lower <= greater:\n",
    "        return (None, None)\n",
    "    overlap = lower - greater\n",
    "    return (greater, overlap)"
   ]
  },
  {
   "cell_type": "code",
   "execution_count": 71,
   "metadata": {},
   "outputs": [
    {
     "data": {
      "text/plain": [
       "{'h': 11, 'w': 5, 'x': 2, 'y': 5}"
      ]
     },
     "execution_count": 71,
     "metadata": {},
     "output_type": "execute_result"
    }
   ],
   "source": [
    "r1 = {'x': 2 , 'y': 4,'w':5,'h':12}\n",
    "r2 = {'x': 1 , 'y': 5,'w':7,'h':14}\n",
    "calc_rect_overlap(r1,r2)"
   ]
  },
  {
   "cell_type": "code",
   "execution_count": 72,
   "metadata": {},
   "outputs": [
    {
     "data": {
      "text/plain": [
       "{'h': 12, 'w': 5, 'x': 2, 'y': 4}"
      ]
     },
     "execution_count": 72,
     "metadata": {},
     "output_type": "execute_result"
    }
   ],
   "source": [
    "r1 = {'x': 2 , 'y': 4,'w':5,'h':12}\n",
    "r2 = {'x': 2 , 'y': 4,'w':5,'h':12}\n",
    "calc_rect_overlap(r1,r2)"
   ]
  },
  {
   "cell_type": "code",
   "execution_count": 73,
   "metadata": {},
   "outputs": [
    {
     "name": "stdout",
     "output_type": "stream",
     "text": [
      "All tests are passed!\n"
     ]
    }
   ],
   "source": [
    "from nose.tools import assert_equal\n",
    "\n",
    "class Test_overlap(object):\n",
    "    def test(self,sol):\n",
    "        assert_equal(sol({'x': 2 , 'y': 4,'w':5,'h':12},{'x': 1 , 'y': 5,'w':7,'h':14}),{'x': 2 , 'y': 5,'w':5,'h':11})\n",
    "        assert_equal(sol({'x': 2 , 'y': 4,'w':5,'h':12},{'x': 2 , 'y': 4,'w':5,'h':12}),{'x': 2 , 'y': 4,'w':5,'h':12})\n",
    "        print('All tests are passed!')\n",
    "        \n",
    "to = Test_overlap()\n",
    "to.test(calc_rect_overlap)"
   ]
  },
  {
   "cell_type": "code",
   "execution_count": null,
   "metadata": {},
   "outputs": [],
   "source": []
  },
  {
   "cell_type": "code",
   "execution_count": null,
   "metadata": {},
   "outputs": [],
   "source": []
  },
  {
   "cell_type": "code",
   "execution_count": null,
   "metadata": {},
   "outputs": [],
   "source": []
  }
 ],
 "metadata": {
  "kernelspec": {
   "display_name": "Python 3",
   "language": "python",
   "name": "python3"
  },
  "language_info": {
   "codemirror_mode": {
    "name": "ipython",
    "version": 3
   },
   "file_extension": ".py",
   "mimetype": "text/x-python",
   "name": "python",
   "nbconvert_exporter": "python",
   "pygments_lexer": "ipython3",
   "version": "3.6.4"
  }
 },
 "nbformat": 4,
 "nbformat_minor": 2
}
