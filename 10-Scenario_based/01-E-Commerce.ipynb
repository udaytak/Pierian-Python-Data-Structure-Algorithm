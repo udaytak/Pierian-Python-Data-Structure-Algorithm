{
 "cells": [
  {
   "cell_type": "markdown",
   "metadata": {},
   "source": [
    "<b>Stock Profit</b>\n",
    "\n",
    "<b>You've been given a list of historical stock prices for a single day for Amazon stock. The index of the list represents the timestamp, so the element at index of 0 is the initial price of the stock, the element at index 1 is the next recorded price of the stock for that day, etc. Your task is to write a function that will return the maximum profit possible from the purchase and sale of a single share of Amazon stock on that day. Keep in mind to try to make this as efficient as possible.</b>\n",
    "\n",
    "For example, if you were given the list of stock prices:\n",
    "\n",
    "prices = [12,11,15,3,10]\n",
    "\n",
    "Then your function would return the maximum possible profit, which would be 7 (buying at 3 and selling at 10)."
   ]
  },
  {
   "cell_type": "code",
   "execution_count": 14,
   "metadata": {},
   "outputs": [],
   "source": [
    "def stock_profit(price_arr):\n",
    "    \n",
    "    min_price = price_arr[0]\n",
    "    max_profit = 0\n",
    "    \n",
    "    for price in price_arr[1:]:\n",
    "        if price < min_price:\n",
    "            min_price = price\n",
    "        else:\n",
    "            profit = price - min_price\n",
    "            if profit > max_profit:\n",
    "                max_profit = profit\n",
    "                \n",
    "    return max_profit"
   ]
  },
  {
   "cell_type": "code",
   "execution_count": 19,
   "metadata": {},
   "outputs": [
    {
     "name": "stdout",
     "output_type": "stream",
     "text": [
      "All tests are passed!\n"
     ]
    }
   ],
   "source": [
    "from nose.tools import assert_equal\n",
    "\n",
    "class TestStocks(object):\n",
    "    def test(self,sol):\n",
    "        assert_equal(sol([12,11,15,3,10]),7)\n",
    "        assert_equal(sol([12,11,15,3,10,18]),15)\n",
    "        assert_equal(sol([1,12,11,15,3,10,18]),17)\n",
    "        assert_equal(sol([10,12,14,12,13,11,8,7,6,13,23,45,11,10]),39)\n",
    "        print('All tests are passed!')\n",
    "        \n",
    "ts = TestStocks()\n",
    "ts.test(stock_profit)"
   ]
  },
  {
   "cell_type": "code",
   "execution_count": 13,
   "metadata": {},
   "outputs": [
    {
     "name": "stdout",
     "output_type": "stream",
     "text": [
      "Price 11\n",
      "min_price 12\n",
      "if_Price 11\n",
      "Price 15\n",
      "min_price 11\n",
      "max_profit 4\n",
      "Price 3\n",
      "min_price 11\n",
      "if_Price 3\n",
      "Price 10\n",
      "min_price 3\n",
      "max_profit 7\n"
     ]
    },
    {
     "data": {
      "text/plain": [
       "7"
      ]
     },
     "execution_count": 13,
     "metadata": {},
     "output_type": "execute_result"
    }
   ],
   "source": [
    "prices = [12,11,15,3,10]\n",
    "\n",
    "stock_profit(prices)"
   ]
  },
  {
   "cell_type": "code",
   "execution_count": null,
   "metadata": {},
   "outputs": [],
   "source": []
  },
  {
   "cell_type": "code",
   "execution_count": 22,
   "metadata": {},
   "outputs": [],
   "source": [
    "def profit(stock_prices):\n",
    "    min_stock_price = stock_prices[0]\n",
    "    max_profit = 0\n",
    "    \n",
    "    for price in stock_prices:\n",
    "        min_stock_price = min(min_stock_price,price)\n",
    "        comparison_profit = price - min_stock_price\n",
    "        max_profit = max(max_profit,comparison_profit)\n",
    "    return max_profit"
   ]
  },
  {
   "cell_type": "code",
   "execution_count": 23,
   "metadata": {},
   "outputs": [
    {
     "data": {
      "text/plain": [
       "39"
      ]
     },
     "execution_count": 23,
     "metadata": {},
     "output_type": "execute_result"
    }
   ],
   "source": [
    "profit([10,12,14,12,13,11,8,7,6,13,23,45,11,10])"
   ]
  },
  {
   "cell_type": "code",
   "execution_count": null,
   "metadata": {},
   "outputs": [],
   "source": []
  },
  {
   "cell_type": "code",
   "execution_count": null,
   "metadata": {},
   "outputs": [],
   "source": []
  }
 ],
 "metadata": {
  "kernelspec": {
   "display_name": "Python 3",
   "language": "python",
   "name": "python3"
  },
  "language_info": {
   "codemirror_mode": {
    "name": "ipython",
    "version": 3
   },
   "file_extension": ".py",
   "mimetype": "text/x-python",
   "name": "python",
   "nbconvert_exporter": "python",
   "pygments_lexer": "ipython3",
   "version": "3.6.4"
  }
 },
 "nbformat": 4,
 "nbformat_minor": 2
}
