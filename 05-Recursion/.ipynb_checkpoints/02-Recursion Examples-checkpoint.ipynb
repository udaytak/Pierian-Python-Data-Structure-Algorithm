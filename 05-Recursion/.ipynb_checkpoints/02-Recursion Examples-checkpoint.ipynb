{
 "cells": [
  {
   "cell_type": "markdown",
   "metadata": {},
   "source": [
    "<b>Reverse String"
   ]
  },
  {
   "cell_type": "code",
   "execution_count": 1,
   "metadata": {},
   "outputs": [],
   "source": [
    "def reverse(s_in):\n",
    "    '''\n",
    "    input: string\n",
    "    output: bool\n",
    "    '''\n",
    "    \n",
    "    #base case\n",
    "    if len(s)< 2:\n",
    "        return s\n",
    "    \n",
    "    '''\n",
    "    if s_in == '':\n",
    "        return ''\n",
    "    '''\n",
    "    \n",
    "    #recursive case\n",
    "    return reverse(s_in[1:])+s_in[0]"
   ]
  },
  {
   "cell_type": "code",
   "execution_count": 4,
   "metadata": {},
   "outputs": [
    {
     "name": "stdout",
     "output_type": "stream",
     "text": [
      "All test are passed!\n"
     ]
    }
   ],
   "source": [
    "from nose.tools import assert_equal\n",
    "\n",
    "class ReverseTest(object):\n",
    "    def test(self,solution):\n",
    "        assert_equal(solution('god'),'dog')      \n",
    "        assert_equal(solution('hello'),'olleh')\n",
    "        assert_equal(solution('hello world'),'dlrow olleh')\n",
    "        assert_equal(solution('123456789'),'987654321')\n",
    "        print('All test are passed!')\n",
    "        \n",
    "t = ReverseTest()\n",
    "t.test(reverse)"
   ]
  },
  {
   "cell_type": "code",
   "execution_count": null,
   "metadata": {},
   "outputs": [],
   "source": []
  },
  {
   "cell_type": "code",
   "execution_count": null,
   "metadata": {},
   "outputs": [],
   "source": []
  }
 ],
 "metadata": {
  "kernelspec": {
   "display_name": "Python 3",
   "language": "python",
   "name": "python3"
  },
  "language_info": {
   "codemirror_mode": {
    "name": "ipython",
    "version": 3
   },
   "file_extension": ".py",
   "mimetype": "text/x-python",
   "name": "python",
   "nbconvert_exporter": "python",
   "pygments_lexer": "ipython3",
   "version": "3.6.4"
  }
 },
 "nbformat": 4,
 "nbformat_minor": 2
}
