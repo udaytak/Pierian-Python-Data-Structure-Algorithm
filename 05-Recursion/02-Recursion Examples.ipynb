{
 "cells": [
  {
   "cell_type": "markdown",
   "metadata": {},
   "source": [
    "<b>Reverse String"
   ]
  },
  {
   "cell_type": "code",
   "execution_count": 5,
   "metadata": {},
   "outputs": [],
   "source": [
    "def reverse(s_in):\n",
    "    '''\n",
    "    input: string\n",
    "    output: bool\n",
    "    '''\n",
    "    \n",
    "    #base case\n",
    "    if len(s_in)< 2:\n",
    "        return s_in\n",
    "    \n",
    "    '''\n",
    "    if s_in == '':\n",
    "        return ''\n",
    "    '''\n",
    "    \n",
    "    #recursive case\n",
    "    return reverse(s_in[1:])+s_in[0]"
   ]
  },
  {
   "cell_type": "code",
   "execution_count": 6,
   "metadata": {},
   "outputs": [
    {
     "name": "stdout",
     "output_type": "stream",
     "text": [
      "All test are passed!\n"
     ]
    }
   ],
   "source": [
    "from nose.tools import assert_equal\n",
    "\n",
    "class ReverseTest(object):\n",
    "    def test(self,solution):\n",
    "        assert_equal(solution('god'),'dog')      \n",
    "        assert_equal(solution('hello'),'olleh')\n",
    "        assert_equal(solution('hello world'),'dlrow olleh')\n",
    "        assert_equal(solution('123456789'),'987654321')\n",
    "        print('All test are passed!')\n",
    "        \n",
    "t = ReverseTest()\n",
    "t.test(reverse)"
   ]
  },
  {
   "cell_type": "code",
   "execution_count": null,
   "metadata": {},
   "outputs": [],
   "source": []
  },
  {
   "cell_type": "markdown",
   "metadata": {},
   "source": [
    "<b> String Permutation </b>"
   ]
  },
  {
   "cell_type": "code",
   "execution_count": 64,
   "metadata": {},
   "outputs": [],
   "source": [
    "def permutation(s):\n",
    "    output = []\n",
    "    \n",
    "    if len(s) < 2:\n",
    "        output = [s]\n",
    "        print('output single char',output)\n",
    "    else:\n",
    "        for i, letter in enumerate(s):\n",
    "            print('i -', i)\n",
    "            print('letter from enum-', letter)\n",
    "            print('s[:i] + s[i+1:]-',s[:i],' ', s[i+1:])\n",
    "            for perm in permutation(s[:i] + s[i+1:]):\n",
    "                print('perm-',perm)\n",
    "                print('letter in perm-', letter)\n",
    "                print('output before', output)\n",
    "                output += [letter + perm]\n",
    "                print('output -', output)\n",
    "            \n",
    "    return output"
   ]
  },
  {
   "cell_type": "code",
   "execution_count": 65,
   "metadata": {},
   "outputs": [
    {
     "name": "stdout",
     "output_type": "stream",
     "text": [
      "i - 0\n",
      "letter from enum- a\n",
      "s[:i] + s[i+1:]-    bc\n",
      "i - 0\n",
      "letter from enum- b\n",
      "s[:i] + s[i+1:]-    c\n",
      "output single char ['c']\n",
      "perm- c\n",
      "letter in perm- b\n",
      "output before []\n",
      "output - ['bc']\n",
      "i - 1\n",
      "letter from enum- c\n",
      "s[:i] + s[i+1:]- b   \n",
      "output single char ['b']\n",
      "perm- b\n",
      "letter in perm- c\n",
      "output before ['bc']\n",
      "output - ['bc', 'cb']\n",
      "perm- bc\n",
      "letter in perm- a\n",
      "output before []\n",
      "output - ['abc']\n",
      "perm- cb\n",
      "letter in perm- a\n",
      "output before ['abc']\n",
      "output - ['abc', 'acb']\n",
      "i - 1\n",
      "letter from enum- b\n",
      "s[:i] + s[i+1:]- a   c\n",
      "i - 0\n",
      "letter from enum- a\n",
      "s[:i] + s[i+1:]-    c\n",
      "output single char ['c']\n",
      "perm- c\n",
      "letter in perm- a\n",
      "output before []\n",
      "output - ['ac']\n",
      "i - 1\n",
      "letter from enum- c\n",
      "s[:i] + s[i+1:]- a   \n",
      "output single char ['a']\n",
      "perm- a\n",
      "letter in perm- c\n",
      "output before ['ac']\n",
      "output - ['ac', 'ca']\n",
      "perm- ac\n",
      "letter in perm- b\n",
      "output before ['abc', 'acb']\n",
      "output - ['abc', 'acb', 'bac']\n",
      "perm- ca\n",
      "letter in perm- b\n",
      "output before ['abc', 'acb', 'bac']\n",
      "output - ['abc', 'acb', 'bac', 'bca']\n",
      "i - 2\n",
      "letter from enum- c\n",
      "s[:i] + s[i+1:]- ab   \n",
      "i - 0\n",
      "letter from enum- a\n",
      "s[:i] + s[i+1:]-    b\n",
      "output single char ['b']\n",
      "perm- b\n",
      "letter in perm- a\n",
      "output before []\n",
      "output - ['ab']\n",
      "i - 1\n",
      "letter from enum- b\n",
      "s[:i] + s[i+1:]- a   \n",
      "output single char ['a']\n",
      "perm- a\n",
      "letter in perm- b\n",
      "output before ['ab']\n",
      "output - ['ab', 'ba']\n",
      "perm- ab\n",
      "letter in perm- c\n",
      "output before ['abc', 'acb', 'bac', 'bca']\n",
      "output - ['abc', 'acb', 'bac', 'bca', 'cab']\n",
      "perm- ba\n",
      "letter in perm- c\n",
      "output before ['abc', 'acb', 'bac', 'bca', 'cab']\n",
      "output - ['abc', 'acb', 'bac', 'bca', 'cab', 'cba']\n"
     ]
    },
    {
     "data": {
      "text/plain": [
       "['abc', 'acb', 'bac', 'bca', 'cab', 'cba']"
      ]
     },
     "execution_count": 65,
     "metadata": {},
     "output_type": "execute_result"
    }
   ],
   "source": [
    "permutation('abc')"
   ]
  },
  {
   "cell_type": "code",
   "execution_count": 11,
   "metadata": {},
   "outputs": [],
   "source": []
  },
  {
   "cell_type": "code",
   "execution_count": 68,
   "metadata": {},
   "outputs": [],
   "source": [
    "def permutation(s):\n",
    "    output = []\n",
    "    \n",
    "    if len(s) < 2:\n",
    "        output = [s]\n",
    "    else:\n",
    "        for i, letter in enumerate(s):\n",
    "            for perm in permutation(s[:i] + s[i+1:]):\n",
    "                output += [letter + perm]\n",
    "            \n",
    "    return output"
   ]
  },
  {
   "cell_type": "code",
   "execution_count": 69,
   "metadata": {},
   "outputs": [
    {
     "name": "stdout",
     "output_type": "stream",
     "text": [
      "All test cases passed.\n"
     ]
    }
   ],
   "source": [
    "\"\"\"\n",
    "RUN THIS CELL TO TEST YOUR SOLUTION.\n",
    "\"\"\"\n",
    "\n",
    "from nose.tools import assert_equal\n",
    "\n",
    "class TestPerm(object):\n",
    "    \n",
    "    def test(self,solution):\n",
    "        \n",
    "        assert_equal(sorted(solution('abc')),sorted(['abc', 'acb', 'bac', 'bca', 'cab', 'cba']))\n",
    "        assert_equal(sorted(solution('dog')),sorted(['dog', 'dgo', 'odg', 'ogd', 'gdo', 'god']) )\n",
    "        \n",
    "        print('All test cases passed.')\n",
    "        \n",
    "\n",
    "\n",
    "# Run Tests\n",
    "t = TestPerm()\n",
    "t.test(permutation)"
   ]
  },
  {
   "cell_type": "code",
   "execution_count": null,
   "metadata": {},
   "outputs": [],
   "source": []
  }
 ],
 "metadata": {
  "kernelspec": {
   "display_name": "Python 3",
   "language": "python",
   "name": "python3"
  },
  "language_info": {
   "codemirror_mode": {
    "name": "ipython",
    "version": 3
   },
   "file_extension": ".py",
   "mimetype": "text/x-python",
   "name": "python",
   "nbconvert_exporter": "python",
   "pygments_lexer": "ipython3",
   "version": "3.6.4"
  }
 },
 "nbformat": 4,
 "nbformat_minor": 2
}
