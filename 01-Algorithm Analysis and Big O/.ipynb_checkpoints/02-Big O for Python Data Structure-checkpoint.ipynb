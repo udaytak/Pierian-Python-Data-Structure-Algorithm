{
 "cells": [
  {
   "cell_type": "markdown",
   "metadata": {},
   "source": [
    "Lists"
   ]
  },
  {
   "cell_type": "code",
   "execution_count": 1,
   "metadata": {},
   "outputs": [],
   "source": [
    "# dynamic array\n",
    "# indexing, assigning to an index position\n",
    "# constuct list - compare various methods, such as appending, concatinating, casting and list comprehension"
   ]
  },
  {
   "cell_type": "code",
   "execution_count": 2,
   "metadata": {},
   "outputs": [],
   "source": [
    "def method1():\n",
    "    l = []\n",
    "    for n in range(10000):\n",
    "        l = l + [n]"
   ]
  },
  {
   "cell_type": "code",
   "execution_count": 3,
   "metadata": {},
   "outputs": [],
   "source": [
    "def method2():\n",
    "    l = []\n",
    "    for n in range(10000):\n",
    "        l.append(n)"
   ]
  },
  {
   "cell_type": "code",
   "execution_count": 4,
   "metadata": {},
   "outputs": [],
   "source": [
    "def method3():\n",
    "    l = [n for n in range(10000)]"
   ]
  },
  {
   "cell_type": "code",
   "execution_count": 5,
   "metadata": {},
   "outputs": [],
   "source": [
    "def method4():\n",
    "    l = list(range(10000))"
   ]
  },
  {
   "cell_type": "code",
   "execution_count": 6,
   "metadata": {},
   "outputs": [
    {
     "name": "stdout",
     "output_type": "stream",
     "text": [
      "657 ms ± 2.81 ms per loop (mean ± std. dev. of 7 runs, 1 loop each)\n",
      "3.17 ms ± 310 µs per loop (mean ± std. dev. of 7 runs, 100 loops each)\n",
      "1.3 ms ± 139 µs per loop (mean ± std. dev. of 7 runs, 1000 loops each)\n",
      "856 µs ± 2.75 µs per loop (mean ± std. dev. of 7 runs, 1000 loops each)\n"
     ]
    }
   ],
   "source": [
    "%timeit method1()\n",
    "%timeit method2()\n",
    "%timeit method3()\n",
    "%timeit method4()\n",
    "# built in functions are faster"
   ]
  },
  {
   "cell_type": "code",
   "execution_count": null,
   "metadata": {},
   "outputs": [],
   "source": []
  },
  {
   "cell_type": "code",
   "execution_count": null,
   "metadata": {},
   "outputs": [],
   "source": [
    "#List Operations\n",
    "#Operation\tBig-O Efficiency\n",
    "#index []\tO(1)\n",
    "#index assignment\tO(1)\n",
    "#append\tO(1)\n",
    "#pop()\tO(1)\n",
    "#pop(i)\tO(n)\n",
    "#insert(i,item)\tO(n)\n",
    "#del operator\tO(n)\n",
    "#iteration\tO(n)\n",
    "#contains (in)\tO(n)\n",
    "#get slice [x:y]\tO(k)\n",
    "#del slice\tO(n)\n",
    "#set slice\tO(n+k)\n",
    "#reverse\tO(n)\n",
    "#concatenate\tO(k)\n",
    "#sort\tO(n log n)\n",
    "#multiply\tO(nk)"
   ]
  },
  {
   "cell_type": "code",
   "execution_count": null,
   "metadata": {},
   "outputs": [],
   "source": []
  },
  {
   "cell_type": "markdown",
   "metadata": {},
   "source": [
    "Dictionaries"
   ]
  },
  {
   "cell_type": "code",
   "execution_count": 8,
   "metadata": {},
   "outputs": [],
   "source": [
    "d = {'k1':1, 'k2':2}"
   ]
  },
  {
   "cell_type": "code",
   "execution_count": 9,
   "metadata": {},
   "outputs": [
    {
     "data": {
      "text/plain": [
       "1"
      ]
     },
     "execution_count": 9,
     "metadata": {},
     "output_type": "execute_result"
    }
   ],
   "source": [
    "d['k1'] #getting setting items from dictionary O(1)"
   ]
  },
  {
   "cell_type": "code",
   "execution_count": null,
   "metadata": {},
   "outputs": [],
   "source": [
    "#dictionary Operations\n",
    "#Operation\tBig-O Efficiency\n",
    "#copy\tO(n)\n",
    "#get item\tO(1)\n",
    "#set item\tO(1)\n",
    "#delete item\tO(1)\n",
    "#contains (in)\tO(1)\n",
    "#iteration\tO(n)"
   ]
  }
 ],
 "metadata": {
  "kernelspec": {
   "display_name": "Python 3",
   "language": "python",
   "name": "python3"
  },
  "language_info": {
   "codemirror_mode": {
    "name": "ipython",
    "version": 3
   },
   "file_extension": ".py",
   "mimetype": "text/x-python",
   "name": "python",
   "nbconvert_exporter": "python",
   "pygments_lexer": "ipython3",
   "version": "3.6.4"
  }
 },
 "nbformat": 4,
 "nbformat_minor": 2
}
