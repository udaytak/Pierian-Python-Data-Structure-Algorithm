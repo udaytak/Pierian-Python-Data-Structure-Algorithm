{
 "cells": [
  {
   "cell_type": "markdown",
   "metadata": {},
   "source": [
    "<b>Word Ladder</b>"
   ]
  },
  {
   "cell_type": "code",
   "execution_count": 1,
   "metadata": {},
   "outputs": [],
   "source": [
    "class Vertex:\n",
    "    def __init__(self, key):\n",
    "        self.id = key\n",
    "        self.connectedTo = {}\n",
    "        \n",
    "    def addNeighbor(self,nbr,weight=0):\n",
    "        self.connectedTo[nbr]=weight\n",
    "        \n",
    "    def getConnections(self):\n",
    "        return self.connectedTo.keys()\n",
    "        \n",
    "    def getId(self):\n",
    "        return self.id\n",
    "    \n",
    "    def getWeight(self,nbr):\n",
    "         return self.connectedTo[nbr]\n",
    " \n",
    "    def __str__(self):\n",
    "         return str(self.id)+' connected to: '+str([x.id for x in self.connectedTo])"
   ]
  },
  {
   "cell_type": "code",
   "execution_count": 3,
   "metadata": {},
   "outputs": [],
   "source": [
    "class Graph:\n",
    "    \n",
    "    def __init__(self):\n",
    "        self.vertList = {}\n",
    "        self.numVertices = 0\n",
    "        \n",
    "    def addVertex(self,key):\n",
    "        self.numVertices += 1\n",
    "        newVertex = Vertex(key)\n",
    "        self.vertList[key] = newVertex\n",
    "        return newVertex\n",
    "    \n",
    "    def getVertex(self,n):\n",
    "        if n in self.verList:\n",
    "            return self.vertList[n]\n",
    "        else:\n",
    "            return None\n",
    "        \n",
    "    def addEdge(self,v1,v2,weight=0):\n",
    "        if v1 not in self.vertList:\n",
    "            newVertex = self.addVertex(v1)\n",
    "        if v2 not in self.vertList:\n",
    "            newVertex = self.addVertex(v2)\n",
    "        self.vertList[v1].addNeighbor(self.vertList[v2],weight)\n",
    "        \n",
    "    def getVertices(self):\n",
    "        return self.vertList.key()\n",
    "    \n",
    "    def __iter__(self):\n",
    "        return iter(self.vertList.values())\n",
    "    \n",
    "    def __contains__(self,n):\n",
    "        return n in self.vertList"
   ]
  },
  {
   "cell_type": "code",
   "execution_count": 20,
   "metadata": {},
   "outputs": [
    {
     "name": "stdout",
     "output_type": "stream",
     "text": [
      "pope\n",
      "\n",
      "rope\n",
      "\n",
      "sage\n",
      "\n",
      "best\n",
      "\n",
      "ripe\n",
      "\n",
      "pipe\n"
     ]
    }
   ],
   "source": [
    "for word in open('words.txt','r'):\n",
    "    print(word)"
   ]
  },
  {
   "cell_type": "code",
   "execution_count": 30,
   "metadata": {},
   "outputs": [],
   "source": [
    "def buildGraph(wordfile):\n",
    "    d = {}\n",
    "    g = Graph()\n",
    "    \n",
    "    file = open(wordfile,'r')\n",
    "    for line in file:\n",
    "        print(line)\n",
    "        word = line[:-1] #pope\\n --> pope\n",
    "        print(word)\n",
    "        \n",
    "        #create buckets of words that differ by one letter\n",
    "        for i in range(len(word)):\n",
    "            bucket = word[:i]+'_'+word[i+1:]\n",
    "            print('d',d)\n",
    "            print('bucket',bucket)\n",
    "            if bucket in d:\n",
    "                d[bucket].append(word)\n",
    "            else:\n",
    "                d[bucket]=[word]\n",
    "                \n",
    "    #add vertices and edges for words in the same bucket\n",
    "    for bucket in d.keys():\n",
    "        for word1 in d[bucket]:\n",
    "            for word2 in d[bucket]:\n",
    "                if word1 != word2:\n",
    "                    g.addEdge(word1,word2)\n",
    "    return g    "
   ]
  },
  {
   "cell_type": "code",
   "execution_count": 31,
   "metadata": {},
   "outputs": [
    {
     "name": "stdout",
     "output_type": "stream",
     "text": [
      "pope\n",
      "\n",
      "pope\n",
      "d {}\n",
      "bucket _ope\n",
      "d {'_ope': ['pope']}\n",
      "bucket p_pe\n",
      "d {'_ope': ['pope'], 'p_pe': ['pope']}\n",
      "bucket po_e\n",
      "d {'_ope': ['pope'], 'p_pe': ['pope'], 'po_e': ['pope']}\n",
      "bucket pop_\n",
      "rope\n",
      "\n",
      "rope\n",
      "d {'_ope': ['pope'], 'p_pe': ['pope'], 'po_e': ['pope'], 'pop_': ['pope']}\n",
      "bucket _ope\n",
      "d {'_ope': ['pope', 'rope'], 'p_pe': ['pope'], 'po_e': ['pope'], 'pop_': ['pope']}\n",
      "bucket r_pe\n",
      "d {'_ope': ['pope', 'rope'], 'p_pe': ['pope'], 'po_e': ['pope'], 'pop_': ['pope'], 'r_pe': ['rope']}\n",
      "bucket ro_e\n",
      "d {'_ope': ['pope', 'rope'], 'p_pe': ['pope'], 'po_e': ['pope'], 'pop_': ['pope'], 'r_pe': ['rope'], 'ro_e': ['rope']}\n",
      "bucket rop_\n",
      "sage\n",
      "\n",
      "sage\n",
      "d {'_ope': ['pope', 'rope'], 'p_pe': ['pope'], 'po_e': ['pope'], 'pop_': ['pope'], 'r_pe': ['rope'], 'ro_e': ['rope'], 'rop_': ['rope']}\n",
      "bucket _age\n",
      "d {'_ope': ['pope', 'rope'], 'p_pe': ['pope'], 'po_e': ['pope'], 'pop_': ['pope'], 'r_pe': ['rope'], 'ro_e': ['rope'], 'rop_': ['rope'], '_age': ['sage']}\n",
      "bucket s_ge\n",
      "d {'_ope': ['pope', 'rope'], 'p_pe': ['pope'], 'po_e': ['pope'], 'pop_': ['pope'], 'r_pe': ['rope'], 'ro_e': ['rope'], 'rop_': ['rope'], '_age': ['sage'], 's_ge': ['sage']}\n",
      "bucket sa_e\n",
      "d {'_ope': ['pope', 'rope'], 'p_pe': ['pope'], 'po_e': ['pope'], 'pop_': ['pope'], 'r_pe': ['rope'], 'ro_e': ['rope'], 'rop_': ['rope'], '_age': ['sage'], 's_ge': ['sage'], 'sa_e': ['sage']}\n",
      "bucket sag_\n",
      "best\n",
      "\n",
      "best\n",
      "d {'_ope': ['pope', 'rope'], 'p_pe': ['pope'], 'po_e': ['pope'], 'pop_': ['pope'], 'r_pe': ['rope'], 'ro_e': ['rope'], 'rop_': ['rope'], '_age': ['sage'], 's_ge': ['sage'], 'sa_e': ['sage'], 'sag_': ['sage']}\n",
      "bucket _est\n",
      "d {'_ope': ['pope', 'rope'], 'p_pe': ['pope'], 'po_e': ['pope'], 'pop_': ['pope'], 'r_pe': ['rope'], 'ro_e': ['rope'], 'rop_': ['rope'], '_age': ['sage'], 's_ge': ['sage'], 'sa_e': ['sage'], 'sag_': ['sage'], '_est': ['best']}\n",
      "bucket b_st\n",
      "d {'_ope': ['pope', 'rope'], 'p_pe': ['pope'], 'po_e': ['pope'], 'pop_': ['pope'], 'r_pe': ['rope'], 'ro_e': ['rope'], 'rop_': ['rope'], '_age': ['sage'], 's_ge': ['sage'], 'sa_e': ['sage'], 'sag_': ['sage'], '_est': ['best'], 'b_st': ['best']}\n",
      "bucket be_t\n",
      "d {'_ope': ['pope', 'rope'], 'p_pe': ['pope'], 'po_e': ['pope'], 'pop_': ['pope'], 'r_pe': ['rope'], 'ro_e': ['rope'], 'rop_': ['rope'], '_age': ['sage'], 's_ge': ['sage'], 'sa_e': ['sage'], 'sag_': ['sage'], '_est': ['best'], 'b_st': ['best'], 'be_t': ['best']}\n",
      "bucket bes_\n",
      "ripe\n",
      "\n",
      "ripe\n",
      "d {'_ope': ['pope', 'rope'], 'p_pe': ['pope'], 'po_e': ['pope'], 'pop_': ['pope'], 'r_pe': ['rope'], 'ro_e': ['rope'], 'rop_': ['rope'], '_age': ['sage'], 's_ge': ['sage'], 'sa_e': ['sage'], 'sag_': ['sage'], '_est': ['best'], 'b_st': ['best'], 'be_t': ['best'], 'bes_': ['best']}\n",
      "bucket _ipe\n",
      "d {'_ope': ['pope', 'rope'], 'p_pe': ['pope'], 'po_e': ['pope'], 'pop_': ['pope'], 'r_pe': ['rope'], 'ro_e': ['rope'], 'rop_': ['rope'], '_age': ['sage'], 's_ge': ['sage'], 'sa_e': ['sage'], 'sag_': ['sage'], '_est': ['best'], 'b_st': ['best'], 'be_t': ['best'], 'bes_': ['best'], '_ipe': ['ripe']}\n",
      "bucket r_pe\n",
      "d {'_ope': ['pope', 'rope'], 'p_pe': ['pope'], 'po_e': ['pope'], 'pop_': ['pope'], 'r_pe': ['rope', 'ripe'], 'ro_e': ['rope'], 'rop_': ['rope'], '_age': ['sage'], 's_ge': ['sage'], 'sa_e': ['sage'], 'sag_': ['sage'], '_est': ['best'], 'b_st': ['best'], 'be_t': ['best'], 'bes_': ['best'], '_ipe': ['ripe']}\n",
      "bucket ri_e\n",
      "d {'_ope': ['pope', 'rope'], 'p_pe': ['pope'], 'po_e': ['pope'], 'pop_': ['pope'], 'r_pe': ['rope', 'ripe'], 'ro_e': ['rope'], 'rop_': ['rope'], '_age': ['sage'], 's_ge': ['sage'], 'sa_e': ['sage'], 'sag_': ['sage'], '_est': ['best'], 'b_st': ['best'], 'be_t': ['best'], 'bes_': ['best'], '_ipe': ['ripe'], 'ri_e': ['ripe']}\n",
      "bucket rip_\n",
      "pipe\n",
      "pip\n",
      "d {'_ope': ['pope', 'rope'], 'p_pe': ['pope'], 'po_e': ['pope'], 'pop_': ['pope'], 'r_pe': ['rope', 'ripe'], 'ro_e': ['rope'], 'rop_': ['rope'], '_age': ['sage'], 's_ge': ['sage'], 'sa_e': ['sage'], 'sag_': ['sage'], '_est': ['best'], 'b_st': ['best'], 'be_t': ['best'], 'bes_': ['best'], '_ipe': ['ripe'], 'ri_e': ['ripe'], 'rip_': ['ripe']}\n",
      "bucket _ip\n",
      "d {'_ope': ['pope', 'rope'], 'p_pe': ['pope'], 'po_e': ['pope'], 'pop_': ['pope'], 'r_pe': ['rope', 'ripe'], 'ro_e': ['rope'], 'rop_': ['rope'], '_age': ['sage'], 's_ge': ['sage'], 'sa_e': ['sage'], 'sag_': ['sage'], '_est': ['best'], 'b_st': ['best'], 'be_t': ['best'], 'bes_': ['best'], '_ipe': ['ripe'], 'ri_e': ['ripe'], 'rip_': ['ripe'], '_ip': ['pip']}\n",
      "bucket p_p\n",
      "d {'_ope': ['pope', 'rope'], 'p_pe': ['pope'], 'po_e': ['pope'], 'pop_': ['pope'], 'r_pe': ['rope', 'ripe'], 'ro_e': ['rope'], 'rop_': ['rope'], '_age': ['sage'], 's_ge': ['sage'], 'sa_e': ['sage'], 'sag_': ['sage'], '_est': ['best'], 'b_st': ['best'], 'be_t': ['best'], 'bes_': ['best'], '_ipe': ['ripe'], 'ri_e': ['ripe'], 'rip_': ['ripe'], '_ip': ['pip'], 'p_p': ['pip']}\n",
      "bucket pi_\n"
     ]
    },
    {
     "data": {
      "text/plain": [
       "<__main__.Graph at 0x5a9f198>"
      ]
     },
     "execution_count": 31,
     "metadata": {},
     "output_type": "execute_result"
    }
   ],
   "source": [
    "buildGraph('words.txt')"
   ]
  },
  {
   "cell_type": "code",
   "execution_count": 32,
   "metadata": {},
   "outputs": [],
   "source": [
    "def buildGraph(wordfile):\n",
    "    d = {}\n",
    "    g = Graph()\n",
    "    \n",
    "    file = open(wordfile,'r')\n",
    "    for line in file:\n",
    "\n",
    "        word = line[:-1] #pope\\n --> pope\n",
    "        \n",
    "        #create buckets of words that differ by one letter\n",
    "        for i in range(len(word)):\n",
    "            bucket = word[:i]+'_'+word[i+1:]\n",
    "            if bucket in d:\n",
    "                d[bucket].append(word)\n",
    "            else:\n",
    "                d[bucket]=[word]\n",
    "                \n",
    "    #add vertices and edges for words in the same bucket\n",
    "    for bucket in d.keys():\n",
    "        for word1 in d[bucket]:\n",
    "            for word2 in d[bucket]:\n",
    "                if word1 != word2:\n",
    "                    g.addEdge(word1,word2)\n",
    "    return g    "
   ]
  },
  {
   "cell_type": "code",
   "execution_count": null,
   "metadata": {},
   "outputs": [],
   "source": []
  },
  {
   "cell_type": "markdown",
   "metadata": {},
   "source": [
    "<b>BFS</b>\n",
    "\n",
    "graph G, start vertex - s, Explore edges to find all vertices in G has path from s.\n",
    "\n",
    "BFS finds vertices at distance k from s before, vertices that are k+1 distance.\n",
    "\n",
    "Process similar to <b>build tree</b> - one level at a time, adds all the children before discovering grandchildren.\n",
    "\n",
    "<b>BFS colors</b> to track the process - white,gray or black\n",
    "\n",
    "undiscovered - white, initially discovered - gray, completely expored (no adjececnt white)- black"
   ]
  },
  {
   "cell_type": "markdown",
   "metadata": {},
   "source": [
    "<b>BFS Implementation</b>\n",
    "\n",
    "begin with vertex s \n",
    "- white to gray \n",
    "- distance = 0 \n",
    "- predecessors = None \n",
    "- place start in Queue for exploration\n",
    "\n",
    "next step - explore vertices at the front of the queue by iterating over adjacency list (color is checked).\n",
    "\n",
    "if color is white:\n",
    "- color it to gray - unexplored vertex(nbr)\n",
    "- predecessor of nbr is set to currentVert\n",
    "- dist to nbr - dist (currentVert + 1)\n",
    "- nrb added to the end of queue, scheduled for further exploration after currentVert fully explored"
   ]
  },
  {
   "cell_type": "code",
   "execution_count": null,
   "metadata": {},
   "outputs": [],
   "source": []
  },
  {
   "cell_type": "markdown",
   "metadata": {},
   "source": [
    "<b>Knights Tour Problem</b> -Speacial case DFS\n",
    "\n",
    "Chess board - knight - moves allow to visit every square on the board exactly once\n",
    "\n",
    "steps\n",
    "- represent every move of Knight using graph\n",
    "- Use graph to find path of lengths <b>rowsXcoulmns-1</b> where every graph is visited exactly once\n",
    "\n",
    "DFS - explore branch as deeply as possible - untill no more moves possible, else backs up and explore next deepest vertex\n",
    "\n",
    "Here, Visit every square exactly once, so with DFS path has exactly 63 edges\n",
    "\n",
    "<b>KnightTour function</b> \n",
    "\n",
    "Four parameters:\n",
    "- n, current depth of search tree\n",
    "- path, list of vertices visited upto this point\n",
    "- u, vertex in graph wish to explore\n",
    "- limit, no of paths in the nodes\n",
    "\n",
    "Function Implementation:\n",
    "- function keep tracks of vertices with colors : white -> unvisited , gray -> visited\n",
    "- all vertex explored, not reached to 63 and reached deadend, then backtrack\n",
    "- DFS uses Stack to help backtracking (recursive function)-BFS uses Queue to keep track of item to visit next"
   ]
  },
  {
   "cell_type": "code",
   "execution_count": null,
   "metadata": {},
   "outputs": [],
   "source": []
  },
  {
   "cell_type": "markdown",
   "metadata": {},
   "source": [
    "<B>DFS</B>\n",
    "\n",
    "Knights Tour - Deepest depth first seach tree without branches\n",
    "\n",
    "General DFS - Search as deeply as possible, connecting as many nodes as possible, branching where necessary\n",
    "\n",
    "DFS creates group of trees - Depth First Forest\n",
    "\n",
    "DFS makes use of predecessor links to construct the tree, same as BFS\n",
    "\n",
    "DFS uses two additional instance variables : \n",
    "- discovery time : tracks number of steps before is first encountered\n",
    "- finish time : number of steps before vertex is colored black\n",
    "\n",
    "DFS Implimentation\n",
    "- Class DFSGraphs(Graph) \n",
    "- def__init__: extra variable time.\n",
    "- def dfs() : iterate all the nodes and run helper function dfsvisit\n",
    "- def dfsVisit() : \n",
    "    - calls itself(uses stack - inbuilt) till the deadend\n",
    "    - color: gray,black \n",
    "    - maintains time: discovery, finish \n",
    "    - Parenthesis property: node has later discovery time and early finish time than parent"
   ]
  },
  {
   "cell_type": "code",
   "execution_count": null,
   "metadata": {},
   "outputs": [],
   "source": []
  },
  {
   "cell_type": "markdown",
   "metadata": {},
   "source": [
    "<b> Implement Graph </b>\n",
    "\n",
    "Implement simple graph by focusing Node\n",
    "\n",
    "edge can hold waights\n",
    "\n",
    "State Class, Node Class, Graph class\n",
    "\n",
    "advantage of two built in tools - OrderedDict, Enum\n",
    "- orderedDict : remembers the order in which the Keys are inserted\n",
    "- enum: base class that create basic enumeration"
   ]
  },
  {
   "cell_type": "code",
   "execution_count": 36,
   "metadata": {},
   "outputs": [
    {
     "name": "stdout",
     "output_type": "stream",
     "text": [
      "Collecting enum34\n",
      "  Downloading enum34-1.1.10-py3-none-any.whl (11 kB)\n",
      "Installing collected packages: enum34\n",
      "Successfully installed enum34-1.1.10\n"
     ]
    },
    {
     "name": "stderr",
     "output_type": "stream",
     "text": [
      "WARNING: You are using pip version 20.2.3; however, version 20.2.4 is available.\n",
      "You should consider upgrading via the 'c:\\users\\localadmin\\appdata\\local\\programs\\python\\python38-32\\python.exe -m pip install --upgrade pip' command.\n"
     ]
    }
   ],
   "source": [
    "!pip install enum34 #python2 enum34 is not default"
   ]
  },
  {
   "cell_type": "code",
   "execution_count": 33,
   "metadata": {},
   "outputs": [],
   "source": [
    "from enum import Enum\n",
    "class Color(Enum):\n",
    "    red = 1\n",
    "    green = 2\n",
    "    blue = 3"
   ]
  },
  {
   "cell_type": "code",
   "execution_count": 34,
   "metadata": {},
   "outputs": [
    {
     "name": "stdout",
     "output_type": "stream",
     "text": [
      "Color.red\n"
     ]
    }
   ],
   "source": [
    "print(Color.red)"
   ]
  },
  {
   "cell_type": "code",
   "execution_count": 35,
   "metadata": {},
   "outputs": [
    {
     "name": "stdout",
     "output_type": "stream",
     "text": [
      "<Color.red: 1>\n"
     ]
    }
   ],
   "source": [
    "print(repr(Color.red))"
   ]
  },
  {
   "cell_type": "code",
   "execution_count": null,
   "metadata": {},
   "outputs": [],
   "source": []
  },
  {
   "cell_type": "markdown",
   "metadata": {},
   "source": [
    "<b>Graph</b>"
   ]
  },
  {
   "cell_type": "code",
   "execution_count": 38,
   "metadata": {},
   "outputs": [],
   "source": [
    "from enum import Enum\n",
    "class State(Enum):\n",
    "    unvisited = 1 #white\n",
    "    visited = 2 #Black\n",
    "    visiting = 3 #Gray"
   ]
  },
  {
   "cell_type": "code",
   "execution_count": 43,
   "metadata": {},
   "outputs": [],
   "source": [
    "from collections import OrderedDict\n",
    "\n",
    "class Node:\n",
    "    def __init__(self,num):\n",
    "        self.num = num #number of node\n",
    "        self.visit_state = State.unvisited\n",
    "        self.adjecent = OrderedDict() #key = node, value = weight\n",
    "        \n",
    "    def __str__(self):\n",
    "        return str(self.num)"
   ]
  },
  {
   "cell_type": "code",
   "execution_count": 44,
   "metadata": {},
   "outputs": [],
   "source": [
    "class Graph:\n",
    "    def __init__(self):\n",
    "        self.nodes = OrderedDict()\n",
    "        \n",
    "    def add_node(self, num):\n",
    "        tempNode = Node(num)\n",
    "        self.nodes[num]=tempNode\n",
    "        return tempNode\n",
    "    \n",
    "    def add_edge(self,source,dest, weight=0):\n",
    "        if source not in self.nodes:\n",
    "            self.add_node(source)\n",
    "        if dest not in self.nodes:\n",
    "            self.add_node(dest)\n",
    "        \n",
    "        self.nodes[source].adjecent[self.nodes[dest]] = weight"
   ]
  },
  {
   "cell_type": "code",
   "execution_count": 48,
   "metadata": {},
   "outputs": [
    {
     "data": {
      "text/plain": [
       "OrderedDict([(0, <__main__.Node at 0x5a9f518>),\n",
       "             (1, <__main__.Node at 0x5a9f908>)])"
      ]
     },
     "execution_count": 48,
     "metadata": {},
     "output_type": "execute_result"
    }
   ],
   "source": [
    "g = Graph()\n",
    "g.add_edge(0,1,5)\n",
    "g.nodes"
   ]
  },
  {
   "cell_type": "code",
   "execution_count": 49,
   "metadata": {},
   "outputs": [
    {
     "data": {
      "text/plain": [
       "OrderedDict([(0, <__main__.Node at 0x5a9f518>),\n",
       "             (1, <__main__.Node at 0x5a9f908>),\n",
       "             (2, <__main__.Node at 0x5a9fda0>)])"
      ]
     },
     "execution_count": 49,
     "metadata": {},
     "output_type": "execute_result"
    }
   ],
   "source": [
    "g.add_edge(1,2,3)\n",
    "g.nodes"
   ]
  },
  {
   "cell_type": "code",
   "execution_count": 47,
   "metadata": {},
   "outputs": [],
   "source": []
  },
  {
   "cell_type": "markdown",
   "metadata": {},
   "source": [
    "<b>DFS</b>\n",
    "- mark the current vertex visited\n",
    "- explore each adjacent vertext that is not included in the visited set"
   ]
  },
  {
   "cell_type": "code",
   "execution_count": 53,
   "metadata": {},
   "outputs": [],
   "source": [
    "graph = {'A':set(['B','C']),\n",
    "         'B':set(['A','D','E']),\n",
    "         'C':set(['A','F']),\n",
    "         'D':set(['B']),\n",
    "         'E':set(['B','F']),\n",
    "         'F':set(['C','E'])}"
   ]
  },
  {
   "cell_type": "code",
   "execution_count": 54,
   "metadata": {},
   "outputs": [],
   "source": [
    "def dfs(graph,start):\n",
    "    visited = set()\n",
    "    stack = [start]\n",
    "    \n",
    "    while stack:\n",
    "        vertex = stack.pop()\n",
    "        if vertex not in visited:\n",
    "            visited.add(vertex)\n",
    "            stack.extend(graph[vertex]-visited)\n",
    "    \n",
    "    return visited    "
   ]
  },
  {
   "cell_type": "code",
   "execution_count": 55,
   "metadata": {},
   "outputs": [
    {
     "data": {
      "text/plain": [
       "{'A', 'B', 'C', 'D', 'E', 'F'}"
      ]
     },
     "execution_count": 55,
     "metadata": {},
     "output_type": "execute_result"
    }
   ],
   "source": [
    "dfs(graph, 'A')"
   ]
  },
  {
   "cell_type": "code",
   "execution_count": 56,
   "metadata": {},
   "outputs": [
    {
     "data": {
      "text/plain": [
       "{'C'}"
      ]
     },
     "execution_count": 56,
     "metadata": {},
     "output_type": "execute_result"
    }
   ],
   "source": [
    "set(['B','C'])-set('B')"
   ]
  },
  {
   "cell_type": "code",
   "execution_count": null,
   "metadata": {},
   "outputs": [],
   "source": []
  },
  {
   "cell_type": "markdown",
   "metadata": {},
   "source": [
    "<b>DFS Recursive</b>"
   ]
  },
  {
   "cell_type": "code",
   "execution_count": 59,
   "metadata": {},
   "outputs": [],
   "source": [
    "def dfs_rec(graph,start,visited=None):\n",
    "    if visited is None:\n",
    "        visited = set()\n",
    "    visited.add(start)\n",
    "    for nxt in graph[start] - visited:\n",
    "        dfs_rec(graph,nxt,visited)\n",
    "    return visited"
   ]
  },
  {
   "cell_type": "code",
   "execution_count": 60,
   "metadata": {},
   "outputs": [
    {
     "data": {
      "text/plain": [
       "{'A', 'B', 'C', 'D', 'E', 'F'}"
      ]
     },
     "execution_count": 60,
     "metadata": {},
     "output_type": "execute_result"
    }
   ],
   "source": [
    "dfs_rec(graph, 'A')"
   ]
  },
  {
   "cell_type": "code",
   "execution_count": null,
   "metadata": {},
   "outputs": [],
   "source": []
  },
  {
   "cell_type": "markdown",
   "metadata": {},
   "source": [
    "<b>DFS paths</b>\n",
    "\n",
    "all possible path between start and goal. using generator, yielding "
   ]
  },
  {
   "cell_type": "code",
   "execution_count": 65,
   "metadata": {},
   "outputs": [],
   "source": [
    "def dfs_paths(graph, start, goal):\n",
    "    stack=[(start, [start])]\n",
    "    while stack:\n",
    "        (vertex, path) = stack.pop()\n",
    "        for nxt in graph[vertex] - set(path):\n",
    "            if nxt==goal:\n",
    "                yield path+[nxt]\n",
    "            else:\n",
    "                stack.append((nxt, path+[nxt]))"
   ]
  },
  {
   "cell_type": "code",
   "execution_count": 66,
   "metadata": {},
   "outputs": [
    {
     "data": {
      "text/plain": [
       "[['A', 'C', 'F'], ['A', 'B', 'E', 'F']]"
      ]
     },
     "execution_count": 66,
     "metadata": {},
     "output_type": "execute_result"
    }
   ],
   "source": [
    "list(dfs_paths(graph, 'A', 'F'))"
   ]
  },
  {
   "cell_type": "code",
   "execution_count": null,
   "metadata": {},
   "outputs": [],
   "source": []
  },
  {
   "cell_type": "markdown",
   "metadata": {},
   "source": [
    "<b> BFS implementation </b>\n",
    "\n",
    "queue instead of stack\n",
    "\n",
    "return shortest paths"
   ]
  },
  {
   "cell_type": "code",
   "execution_count": 68,
   "metadata": {},
   "outputs": [],
   "source": [
    "graph = {'A':set(['B','C']),\n",
    "         'B':set(['A','D','E']),\n",
    "         'C':set(['A','F']),\n",
    "         'D':set(['B']),\n",
    "         'E':set(['B','F']),\n",
    "         'F':set(['C','E'])}"
   ]
  },
  {
   "cell_type": "code",
   "execution_count": 71,
   "metadata": {},
   "outputs": [],
   "source": [
    "def bfs(graph, start):\n",
    "    visited = set()\n",
    "    queue = [start]\n",
    "    \n",
    "    while queue:\n",
    "        vertex = queue.pop(0)\n",
    "        if vertex not in visited:\n",
    "            visited.add(vertex)\n",
    "            queue.extend(graph[vertex]-visited)\n",
    "            \n",
    "    return visited"
   ]
  },
  {
   "cell_type": "code",
   "execution_count": 72,
   "metadata": {},
   "outputs": [
    {
     "data": {
      "text/plain": [
       "{'A', 'B', 'C', 'D', 'E', 'F'}"
      ]
     },
     "execution_count": 72,
     "metadata": {},
     "output_type": "execute_result"
    }
   ],
   "source": [
    "bfs(graph,'A')"
   ]
  },
  {
   "cell_type": "code",
   "execution_count": null,
   "metadata": {},
   "outputs": [],
   "source": []
  },
  {
   "cell_type": "markdown",
   "metadata": {},
   "source": [
    "<b>bfs paths</b> all possible paths between two vertices"
   ]
  },
  {
   "cell_type": "code",
   "execution_count": 75,
   "metadata": {},
   "outputs": [],
   "source": [
    "def bfs_paths(graph,start, goal):\n",
    "    queue=[(start, [start])]\n",
    "    \n",
    "    while queue:\n",
    "        (vertex, path) = queue.pop(0)\n",
    "        for nxt in graph[vertex] - set(path):\n",
    "            if nxt == goal:\n",
    "                yield path + [nxt]  \n",
    "            else:\n",
    "                queue.append((nxt, path + [nxt]))"
   ]
  },
  {
   "cell_type": "code",
   "execution_count": 76,
   "metadata": {},
   "outputs": [
    {
     "data": {
      "text/plain": [
       "[['A', 'C', 'F'], ['A', 'B', 'E', 'F']]"
      ]
     },
     "execution_count": 76,
     "metadata": {},
     "output_type": "execute_result"
    }
   ],
   "source": [
    "list(bfs_paths(graph,'A','F'))"
   ]
  },
  {
   "cell_type": "markdown",
   "metadata": {},
   "source": [
    "Shortest path will be returned first from the BFS paths method. here Generator is used"
   ]
  },
  {
   "cell_type": "code",
   "execution_count": 77,
   "metadata": {},
   "outputs": [],
   "source": [
    "def shortest_path(graph, start, goal):\n",
    "    try:\n",
    "        return next(bfs_paths(graph,start,goal))\n",
    "    except StopIteration:\n",
    "        return None"
   ]
  },
  {
   "cell_type": "code",
   "execution_count": 78,
   "metadata": {},
   "outputs": [
    {
     "data": {
      "text/plain": [
       "['A', 'C', 'F']"
      ]
     },
     "execution_count": 78,
     "metadata": {},
     "output_type": "execute_result"
    }
   ],
   "source": [
    "shortest_path(graph, 'A', 'F')"
   ]
  },
  {
   "cell_type": "code",
   "execution_count": null,
   "metadata": {},
   "outputs": [],
   "source": []
  }
 ],
 "metadata": {
  "kernelspec": {
   "display_name": "Python 3",
   "language": "python",
   "name": "python3"
  },
  "language_info": {
   "codemirror_mode": {
    "name": "ipython",
    "version": 3
   },
   "file_extension": ".py",
   "mimetype": "text/x-python",
   "name": "python",
   "nbconvert_exporter": "python",
   "pygments_lexer": "ipython3",
   "version": "3.6.4"
  }
 },
 "nbformat": 4,
 "nbformat_minor": 2
}
