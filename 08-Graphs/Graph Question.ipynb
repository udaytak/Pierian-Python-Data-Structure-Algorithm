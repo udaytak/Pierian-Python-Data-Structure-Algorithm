{
 "cells": [
  {
   "cell_type": "markdown",
   "metadata": {},
   "source": [
    "<b>Word Ladder</b>"
   ]
  },
  {
   "cell_type": "code",
   "execution_count": 1,
   "metadata": {},
   "outputs": [],
   "source": [
    "class Vertex:\n",
    "    def __init__(self, key):\n",
    "        self.id = key\n",
    "        self.connectedTo = {}\n",
    "        \n",
    "    def addNeighbor(self,nbr,weight=0):\n",
    "        self.connectedTo[nbr]=weight\n",
    "        \n",
    "    def getConnections(self):\n",
    "        return self.connectedTo.keys()\n",
    "        \n",
    "    def getId(self):\n",
    "        return self.id\n",
    "    \n",
    "    def getWeight(self,nbr):\n",
    "         return self.connectedTo[nbr]\n",
    " \n",
    "    def __str__(self):\n",
    "         return str(self.id)+' connected to: '+str([x.id for x in self.connectedTo])"
   ]
  },
  {
   "cell_type": "code",
   "execution_count": 3,
   "metadata": {},
   "outputs": [],
   "source": [
    "class Graph:\n",
    "    \n",
    "    def __init__(self):\n",
    "        self.vertList = {}\n",
    "        self.numVertices = 0\n",
    "        \n",
    "    def addVertex(self,key):\n",
    "        self.numVertices += 1\n",
    "        newVertex = Vertex(key)\n",
    "        self.vertList[key] = newVertex\n",
    "        return newVertex\n",
    "    \n",
    "    def getVertex(self,n):\n",
    "        if n in self.verList:\n",
    "            return self.vertList[n]\n",
    "        else:\n",
    "            return None\n",
    "        \n",
    "    def addEdge(self,v1,v2,weight=0):\n",
    "        if v1 not in self.vertList:\n",
    "            newVertex = self.addVertex(v1)\n",
    "        if v2 not in self.vertList:\n",
    "            newVertex = self.addVertex(v2)\n",
    "        self.vertList[v1].addNeighbor(self.vertList[v2],weight)\n",
    "        \n",
    "    def getVertices(self):\n",
    "        return self.vertList.key()\n",
    "    \n",
    "    def __iter__(self):\n",
    "        return iter(self.vertList.values())\n",
    "    \n",
    "    def __contains__(self,n):\n",
    "        return n in self.vertList"
   ]
  },
  {
   "cell_type": "code",
   "execution_count": 20,
   "metadata": {},
   "outputs": [
    {
     "name": "stdout",
     "output_type": "stream",
     "text": [
      "pope\n",
      "\n",
      "rope\n",
      "\n",
      "sage\n",
      "\n",
      "best\n",
      "\n",
      "ripe\n",
      "\n",
      "pipe\n"
     ]
    }
   ],
   "source": [
    "for word in open('words.txt','r'):\n",
    "    print(word)"
   ]
  },
  {
   "cell_type": "code",
   "execution_count": 25,
   "metadata": {},
   "outputs": [],
   "source": [
    "def buildGraph(wordfile):\n",
    "    d = {}\n",
    "    g = Graph()\n",
    "    \n",
    "    file = open(wordfile,'r')\n",
    "    for line in file:\n",
    "\n",
    "        word = line[:-1] #pope\\n --> pope\n",
    "        \n",
    "        #create buckets of words that differ by one letter\n",
    "        for i in range(len(word)):\n",
    "            bucket = word[:i]+'_'+word[i+1:]\n",
    "            if bucket in d:\n",
    "                d[bucket].append(word)\n",
    "            else:\n",
    "                d[bucket]=[word]\n",
    "                \n",
    "    #add vertices and edges for words in the same bucket\n",
    "    for bucket in d.keys():\n",
    "        for word1 in d[bucket]:\n",
    "            for word2 in d[bucket]:\n",
    "                if word1 != word2:\n",
    "                    g.addEdge(word1,word2)\n",
    "    return g    "
   ]
  },
  {
   "cell_type": "code",
   "execution_count": 26,
   "metadata": {},
   "outputs": [
    {
     "name": "stdout",
     "output_type": "stream",
     "text": [
      "pope\n",
      "\n",
      "pope\n",
      "d {}\n",
      "bucket _ope\n",
      "d {'_ope': ['pope']}\n",
      "bucket p_pe\n",
      "d {'_ope': ['pope'], 'p_pe': ['pope']}\n",
      "bucket po_e\n",
      "d {'_ope': ['pope'], 'p_pe': ['pope'], 'po_e': ['pope']}\n",
      "bucket pop_\n",
      "rope\n",
      "\n",
      "rope\n",
      "d {'_ope': ['pope'], 'p_pe': ['pope'], 'po_e': ['pope'], 'pop_': ['pope']}\n",
      "bucket _ope\n",
      "d {'_ope': ['pope', 'rope'], 'p_pe': ['pope'], 'po_e': ['pope'], 'pop_': ['pope']}\n",
      "bucket r_pe\n",
      "d {'_ope': ['pope', 'rope'], 'p_pe': ['pope'], 'po_e': ['pope'], 'pop_': ['pope'], 'r_pe': ['rope']}\n",
      "bucket ro_e\n",
      "d {'_ope': ['pope', 'rope'], 'p_pe': ['pope'], 'po_e': ['pope'], 'pop_': ['pope'], 'r_pe': ['rope'], 'ro_e': ['rope']}\n",
      "bucket rop_\n",
      "sage\n",
      "\n",
      "sage\n",
      "d {'_ope': ['pope', 'rope'], 'p_pe': ['pope'], 'po_e': ['pope'], 'pop_': ['pope'], 'r_pe': ['rope'], 'ro_e': ['rope'], 'rop_': ['rope']}\n",
      "bucket _age\n",
      "d {'_ope': ['pope', 'rope'], 'p_pe': ['pope'], 'po_e': ['pope'], 'pop_': ['pope'], 'r_pe': ['rope'], 'ro_e': ['rope'], 'rop_': ['rope'], '_age': ['sage']}\n",
      "bucket s_ge\n",
      "d {'_ope': ['pope', 'rope'], 'p_pe': ['pope'], 'po_e': ['pope'], 'pop_': ['pope'], 'r_pe': ['rope'], 'ro_e': ['rope'], 'rop_': ['rope'], '_age': ['sage'], 's_ge': ['sage']}\n",
      "bucket sa_e\n",
      "d {'_ope': ['pope', 'rope'], 'p_pe': ['pope'], 'po_e': ['pope'], 'pop_': ['pope'], 'r_pe': ['rope'], 'ro_e': ['rope'], 'rop_': ['rope'], '_age': ['sage'], 's_ge': ['sage'], 'sa_e': ['sage']}\n",
      "bucket sag_\n",
      "best\n",
      "\n",
      "best\n",
      "d {'_ope': ['pope', 'rope'], 'p_pe': ['pope'], 'po_e': ['pope'], 'pop_': ['pope'], 'r_pe': ['rope'], 'ro_e': ['rope'], 'rop_': ['rope'], '_age': ['sage'], 's_ge': ['sage'], 'sa_e': ['sage'], 'sag_': ['sage']}\n",
      "bucket _est\n",
      "d {'_ope': ['pope', 'rope'], 'p_pe': ['pope'], 'po_e': ['pope'], 'pop_': ['pope'], 'r_pe': ['rope'], 'ro_e': ['rope'], 'rop_': ['rope'], '_age': ['sage'], 's_ge': ['sage'], 'sa_e': ['sage'], 'sag_': ['sage'], '_est': ['best']}\n",
      "bucket b_st\n",
      "d {'_ope': ['pope', 'rope'], 'p_pe': ['pope'], 'po_e': ['pope'], 'pop_': ['pope'], 'r_pe': ['rope'], 'ro_e': ['rope'], 'rop_': ['rope'], '_age': ['sage'], 's_ge': ['sage'], 'sa_e': ['sage'], 'sag_': ['sage'], '_est': ['best'], 'b_st': ['best']}\n",
      "bucket be_t\n",
      "d {'_ope': ['pope', 'rope'], 'p_pe': ['pope'], 'po_e': ['pope'], 'pop_': ['pope'], 'r_pe': ['rope'], 'ro_e': ['rope'], 'rop_': ['rope'], '_age': ['sage'], 's_ge': ['sage'], 'sa_e': ['sage'], 'sag_': ['sage'], '_est': ['best'], 'b_st': ['best'], 'be_t': ['best']}\n",
      "bucket bes_\n",
      "ripe\n",
      "\n",
      "ripe\n",
      "d {'_ope': ['pope', 'rope'], 'p_pe': ['pope'], 'po_e': ['pope'], 'pop_': ['pope'], 'r_pe': ['rope'], 'ro_e': ['rope'], 'rop_': ['rope'], '_age': ['sage'], 's_ge': ['sage'], 'sa_e': ['sage'], 'sag_': ['sage'], '_est': ['best'], 'b_st': ['best'], 'be_t': ['best'], 'bes_': ['best']}\n",
      "bucket _ipe\n",
      "d {'_ope': ['pope', 'rope'], 'p_pe': ['pope'], 'po_e': ['pope'], 'pop_': ['pope'], 'r_pe': ['rope'], 'ro_e': ['rope'], 'rop_': ['rope'], '_age': ['sage'], 's_ge': ['sage'], 'sa_e': ['sage'], 'sag_': ['sage'], '_est': ['best'], 'b_st': ['best'], 'be_t': ['best'], 'bes_': ['best'], '_ipe': ['ripe']}\n",
      "bucket r_pe\n",
      "d {'_ope': ['pope', 'rope'], 'p_pe': ['pope'], 'po_e': ['pope'], 'pop_': ['pope'], 'r_pe': ['rope', 'ripe'], 'ro_e': ['rope'], 'rop_': ['rope'], '_age': ['sage'], 's_ge': ['sage'], 'sa_e': ['sage'], 'sag_': ['sage'], '_est': ['best'], 'b_st': ['best'], 'be_t': ['best'], 'bes_': ['best'], '_ipe': ['ripe']}\n",
      "bucket ri_e\n",
      "d {'_ope': ['pope', 'rope'], 'p_pe': ['pope'], 'po_e': ['pope'], 'pop_': ['pope'], 'r_pe': ['rope', 'ripe'], 'ro_e': ['rope'], 'rop_': ['rope'], '_age': ['sage'], 's_ge': ['sage'], 'sa_e': ['sage'], 'sag_': ['sage'], '_est': ['best'], 'b_st': ['best'], 'be_t': ['best'], 'bes_': ['best'], '_ipe': ['ripe'], 'ri_e': ['ripe']}\n",
      "bucket rip_\n",
      "pipe\n",
      "pip\n",
      "d {'_ope': ['pope', 'rope'], 'p_pe': ['pope'], 'po_e': ['pope'], 'pop_': ['pope'], 'r_pe': ['rope', 'ripe'], 'ro_e': ['rope'], 'rop_': ['rope'], '_age': ['sage'], 's_ge': ['sage'], 'sa_e': ['sage'], 'sag_': ['sage'], '_est': ['best'], 'b_st': ['best'], 'be_t': ['best'], 'bes_': ['best'], '_ipe': ['ripe'], 'ri_e': ['ripe'], 'rip_': ['ripe']}\n",
      "bucket _ip\n",
      "d {'_ope': ['pope', 'rope'], 'p_pe': ['pope'], 'po_e': ['pope'], 'pop_': ['pope'], 'r_pe': ['rope', 'ripe'], 'ro_e': ['rope'], 'rop_': ['rope'], '_age': ['sage'], 's_ge': ['sage'], 'sa_e': ['sage'], 'sag_': ['sage'], '_est': ['best'], 'b_st': ['best'], 'be_t': ['best'], 'bes_': ['best'], '_ipe': ['ripe'], 'ri_e': ['ripe'], 'rip_': ['ripe'], '_ip': ['pip']}\n",
      "bucket p_p\n",
      "d {'_ope': ['pope', 'rope'], 'p_pe': ['pope'], 'po_e': ['pope'], 'pop_': ['pope'], 'r_pe': ['rope', 'ripe'], 'ro_e': ['rope'], 'rop_': ['rope'], '_age': ['sage'], 's_ge': ['sage'], 'sa_e': ['sage'], 'sag_': ['sage'], '_est': ['best'], 'b_st': ['best'], 'be_t': ['best'], 'bes_': ['best'], '_ipe': ['ripe'], 'ri_e': ['ripe'], 'rip_': ['ripe'], '_ip': ['pip'], 'p_p': ['pip']}\n",
      "bucket pi_\n"
     ]
    },
    {
     "data": {
      "text/plain": [
       "<__main__.Graph at 0x5788710>"
      ]
     },
     "execution_count": 26,
     "metadata": {},
     "output_type": "execute_result"
    }
   ],
   "source": [
    "buildGraph('words.txt')"
   ]
  },
  {
   "cell_type": "code",
   "execution_count": null,
   "metadata": {},
   "outputs": [],
   "source": []
  },
  {
   "cell_type": "markdown",
   "metadata": {},
   "source": [
    "<b>BFS</b>\n",
    "\n",
    "graph G, start vertex - s, Explore edges to find all vertices in G has path from s.\n",
    "\n",
    "BFS finds vertices at distance k from s before, vertices that are k+1 distance.\n",
    "\n",
    "Process similar to <b>build tree</b> - one level at a time, adds all the children before discovering grandchildren.\n",
    "\n",
    "<b>BFS colors</b> to track the process - white,gray or black\n",
    "\n",
    "undiscovered - white, initially discovered - gray, completely expored (no adjececnt white)- black"
   ]
  },
  {
   "cell_type": "markdown",
   "metadata": {},
   "source": [
    "<b>BFS Implementation</b>\n",
    "\n",
    "begin with vertex s \n",
    "- white to gray \n",
    "- distance = 0 \n",
    "- predecessors = None \n",
    "- place start in Queue for exploration\n",
    "\n",
    "next step - explore vertices at the front of the queue by iterating over adjacency list (color is checked).\n",
    "\n",
    "if color is white:\n",
    "- color it to gray - unexplored vertex(nbr)\n",
    "- predecessor of nbr is set to currentVert\n",
    "- dist to nbr - dist (currentVert + 1)\n",
    "- nrb added to the end of queue, scheduled for further exploration after currentVert fully explored"
   ]
  },
  {
   "cell_type": "code",
   "execution_count": null,
   "metadata": {},
   "outputs": [],
   "source": []
  }
 ],
 "metadata": {
  "kernelspec": {
   "display_name": "Python 3",
   "language": "python",
   "name": "python3"
  },
  "language_info": {
   "codemirror_mode": {
    "name": "ipython",
    "version": 3
   },
   "file_extension": ".py",
   "mimetype": "text/x-python",
   "name": "python",
   "nbconvert_exporter": "python",
   "pygments_lexer": "ipython3",
   "version": "3.6.4"
  }
 },
 "nbformat": 4,
 "nbformat_minor": 2
}
