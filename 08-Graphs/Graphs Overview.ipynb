{
 "cells": [
  {
   "cell_type": "markdown",
   "metadata": {},
   "source": [
    "<b>Graph Basics</b>\n",
    "\n",
    "Tree is special kind of Graph\n",
    "\n",
    "Roads, airline, internet connections\n",
    "\n",
    "<b>vertex(node) :</b> name - key, payload\n",
    "\n",
    "<b>edge :</b> connect vertice, one way or two way, directed graph, digraph\n",
    "\n",
    "<b>weight: </b> roads - weight distance between two cities\n",
    "\n",
    "G=(V,E) , each E is tuple (v,w), can add 3rd component as weight\n",
    "\n",
    "s=(v,e) , subgraph of G\n",
    "\n",
    "<b>Path :</b> sequence of vertices connected with edges\n",
    "\n",
    "<b>Cycle :</b> path in directed graph which starts and ends at the same vertex\n",
    "\n",
    "    Acyclic Graph : graphs with no cycles\n",
    "    \n",
    "    Directed Acyclic Graph (DAG) : directed graph with no cycle"
   ]
  },
  {
   "cell_type": "code",
   "execution_count": null,
   "metadata": {},
   "outputs": [],
   "source": []
  },
  {
   "cell_type": "markdown",
   "metadata": {},
   "source": [
    "<b>Graph Representaion</b>\n",
    "\n",
    "<b>Adjacency Matrix</b>\n",
    "- Graph implementation is 2D matrix\n",
    "- Vertex - Each row and column represent single vertex. Two vertices connected - Adjecent\n",
    "- Edge - value stored in cell at intersection represents \n",
    "- Most cells are empty - Sparse matrix - more space\n",
    "- Good when No of edges are large\n",
    "- Number of edges required to fill the matrix - |V|^2  \n",
    "\n",
    "<b>Adjecency List</b>\n",
    "- Space efficient to implement sparse graph\n",
    "- Mintain master list of all vertices and each vertex maintains other vertices it is connected to\n",
    "- Dictionary and set {vertex: weight, vertex:weight}"
   ]
  },
  {
   "cell_type": "markdown",
   "metadata": {},
   "source": [
    "<b>Graph Implimentation"
   ]
  },
  {
   "cell_type": "code",
   "execution_count": 181,
   "metadata": {},
   "outputs": [],
   "source": [
    "class Vertex:\n",
    "    \n",
    "    def __init__(self, key):\n",
    "        self.id = key\n",
    "        self.connectedTo = {} #{v2:5, v3:3}\n",
    "        \n",
    "    def addNeighbor(self, nbr, weight=0):\n",
    "        self.connectedTo[nbr]=weight\n",
    "        \n",
    "    def getConnection(self):\n",
    "        return self.connectedTo.keys()\n",
    "    \n",
    "    def getId(self):\n",
    "        return self.id #key\n",
    "    \n",
    "    def getWeight(self, nbr):\n",
    "        return self.connectedTo[nbr]\n",
    "    \n",
    "    def __str__(self):\n",
    "#        return str(self.id)+' connected to: '+str([(x.id) for x in self.connectedTo])\n",
    "        return str(self.id)+' '+str([(' connected to:',x.id,' Weight :',weight) for (x, weight) in self.connectedTo.items()])"
   ]
  },
  {
   "cell_type": "code",
   "execution_count": 182,
   "metadata": {},
   "outputs": [],
   "source": [
    "class Graph:\n",
    "    \n",
    "    def __init__(self):\n",
    "        self.vertList = {} #{v1:{v2:5,v3:3}}\n",
    "        self.numVertices = 0\n",
    "        \n",
    "    def addVertex(self,key):\n",
    "        self.numVertices += 1\n",
    "        newVertex = Vertex(key)\n",
    "        self.vertList[key] = newVertex\n",
    "        return newVertex\n",
    "    \n",
    "    def getVertex(self,n):\n",
    "        if n in self.verList:\n",
    "            return self.vertList[n]\n",
    "        else:\n",
    "            return None\n",
    "        \n",
    "    def addEdge(self,v1,v2,weight=0):\n",
    "        if v1 not in self.vertList:\n",
    "            newVertex = self.addVertex(v1)\n",
    "        if v2 not in self.vertList:\n",
    "            newVertex = self.addVertex(v2)\n",
    "        self.vertList[v1].addNeighbor(self.vertList[v2],weight)\n",
    "        \n",
    "    def getVertices(self):\n",
    "        return self.vertList.key()\n",
    "    \n",
    "    def __iter__(self):\n",
    "        return iter(self.vertList.values())\n",
    "    \n",
    "    def __contains__(self,n):\n",
    "        return n in self.vertList    "
   ]
  },
  {
   "cell_type": "code",
   "execution_count": 183,
   "metadata": {},
   "outputs": [],
   "source": [
    "g = Graph()"
   ]
  },
  {
   "cell_type": "code",
   "execution_count": 184,
   "metadata": {},
   "outputs": [],
   "source": [
    "for i in range(6):\n",
    "    g.addVertex(i)"
   ]
  },
  {
   "cell_type": "code",
   "execution_count": 185,
   "metadata": {},
   "outputs": [
    {
     "data": {
      "text/plain": [
       "{0: <__main__.Vertex at 0x82e0978>,\n",
       " 1: <__main__.Vertex at 0x832c160>,\n",
       " 2: <__main__.Vertex at 0x832c3c8>,\n",
       " 3: <__main__.Vertex at 0x832c2e8>,\n",
       " 4: <__main__.Vertex at 0x832c898>,\n",
       " 5: <__main__.Vertex at 0x832c278>}"
      ]
     },
     "execution_count": 185,
     "metadata": {},
     "output_type": "execute_result"
    }
   ],
   "source": [
    "g.vertList"
   ]
  },
  {
   "cell_type": "code",
   "execution_count": 186,
   "metadata": {},
   "outputs": [],
   "source": [
    "g.addEdge(0,1,2) #0 to 1, weight 2"
   ]
  },
  {
   "cell_type": "code",
   "execution_count": 187,
   "metadata": {},
   "outputs": [
    {
     "name": "stdout",
     "output_type": "stream",
     "text": [
      "0 [(' connected to:', 1, ' Weight :', 2)]\n",
      "dict_keys([<__main__.Vertex object at 0x000000000832C160>])\n",
      "\n",
      "\n",
      "1 []\n",
      "dict_keys([])\n",
      "\n",
      "\n",
      "2 []\n",
      "dict_keys([])\n",
      "\n",
      "\n",
      "3 []\n",
      "dict_keys([])\n",
      "\n",
      "\n",
      "4 []\n",
      "dict_keys([])\n",
      "\n",
      "\n",
      "5 []\n",
      "dict_keys([])\n",
      "\n",
      "\n"
     ]
    }
   ],
   "source": [
    "for vertex in g:\n",
    "    print(vertex)\n",
    "    print(vertex.getConnection())\n",
    "    print('\\n')"
   ]
  },
  {
   "cell_type": "code",
   "execution_count": null,
   "metadata": {},
   "outputs": [],
   "source": []
  },
  {
   "cell_type": "code",
   "execution_count": null,
   "metadata": {},
   "outputs": [],
   "source": []
  }
 ],
 "metadata": {
  "kernelspec": {
   "display_name": "Python 3",
   "language": "python",
   "name": "python3"
  },
  "language_info": {
   "codemirror_mode": {
    "name": "ipython",
    "version": 3
   },
   "file_extension": ".py",
   "mimetype": "text/x-python",
   "name": "python",
   "nbconvert_exporter": "python",
   "pygments_lexer": "ipython3",
   "version": "3.6.4"
  }
 },
 "nbformat": 4,
 "nbformat_minor": 2
}
