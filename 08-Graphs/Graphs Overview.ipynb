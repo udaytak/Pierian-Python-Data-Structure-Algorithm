{
 "cells": [
  {
   "cell_type": "markdown",
   "metadata": {},
   "source": [
    "<b>Graph Basics</b>\n",
    "\n",
    "Tree is special kind of Graph\n",
    "\n",
    "Roads, airline, internet connections\n",
    "\n",
    "<b>vertex(node) :</b> name - key, payload\n",
    "\n",
    "<b>edge :</b> connect vertice, one way or two way, directed graph, digraph\n",
    "\n",
    "<b>weight: </b> roads - weight distance between two cities\n",
    "\n",
    "G=(V,E) , each E is tuple (v,w), can add 3rd component as weight\n",
    "\n",
    "s=(v,e) , subgraph of G\n",
    "\n",
    "<b>Path :</b> sequence of vertices connected with edges\n",
    "\n",
    "<b>Cycle :</b> path in directed graph which starts and ends at the same vertex\n",
    "\n",
    "    Acyclic Graph : graphs with no cycles\n",
    "    \n",
    "    Directed Acyclic Graph (DAG) : directed graph with no cycle"
   ]
  },
  {
   "cell_type": "code",
   "execution_count": null,
   "metadata": {},
   "outputs": [],
   "source": []
  },
  {
   "cell_type": "markdown",
   "metadata": {},
   "source": [
    "<b>Graph Representaion</b>\n",
    "\n",
    "<b>Adjacency Matrix</b>\n",
    "- Graph implementation is 2D matrix\n",
    "- Vertex - Each row and column represent single vertex. Two vertices connected - Adjecent\n",
    "- Edge - value stored in cell at intersection represents \n",
    "- Most cells are empty - Sparse matrix - more space\n",
    "- Good when No of edges are large\n",
    "- Number of edges required to fill the matrix - |V|^2  \n",
    "\n",
    "<b>Adjecency List</b>\n",
    "- Space efficient to implement sparse graph\n",
    "- Mintain master list of all vertices and each vertex maintains other vertices it is connected to\n",
    "- Dictionary and set {vertex: weight, vertex:weight}"
   ]
  },
  {
   "cell_type": "markdown",
   "metadata": {},
   "source": []
  }
 ],
 "metadata": {
  "kernelspec": {
   "display_name": "Python 3",
   "language": "python",
   "name": "python3"
  },
  "language_info": {
   "codemirror_mode": {
    "name": "ipython",
    "version": 3
   },
   "file_extension": ".py",
   "mimetype": "text/x-python",
   "name": "python",
   "nbconvert_exporter": "python",
   "pygments_lexer": "ipython3",
   "version": "3.6.4"
  }
 },
 "nbformat": 4,
 "nbformat_minor": 2
}
