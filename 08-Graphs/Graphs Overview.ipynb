{
 "cells": [
  {
   "cell_type": "markdown",
   "metadata": {},
   "source": [
    "Tree is special kind of Graph\n",
    "\n",
    "Roads, airline, internet connections\n",
    "\n",
    "<b>vertex(node) :</b> name - key, payload\n",
    "\n",
    "<b>edge :</b> connect vertice, one way or two way, directed graph, digraph\n",
    "\n",
    "<b>weight: </b> roads - weight distance between two cities\n",
    "\n",
    "G=(V,E) , each E is tuple (v,w), can add 3rd component as weight\n",
    "\n",
    "s=(v,e) , subgraph of G\n",
    "\n",
    "<b>Path :</b> sequence of vertices connected with edges\n",
    "\n",
    "<b>Cycle :</b> path in directed graph which starts and ends at the same vertex\n",
    "\n",
    "    Acyclic Graph : graphs with no cycles\n",
    "    \n",
    "    Directed Acyclic Graph (DAG) : directed graph with no cycle"
   ]
  },
  {
   "cell_type": "markdown",
   "metadata": {},
   "source": []
  }
 ],
 "metadata": {
  "kernelspec": {
   "display_name": "Python 3",
   "language": "python",
   "name": "python3"
  },
  "language_info": {
   "codemirror_mode": {
    "name": "ipython",
    "version": 3
   },
   "file_extension": ".py",
   "mimetype": "text/x-python",
   "name": "python",
   "nbconvert_exporter": "python",
   "pygments_lexer": "ipython3",
   "version": "3.6.4"
  }
 },
 "nbformat": 4,
 "nbformat_minor": 2
}
