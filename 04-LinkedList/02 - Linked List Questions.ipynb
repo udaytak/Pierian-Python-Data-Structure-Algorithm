{
 "cells": [
  {
   "cell_type": "markdown",
   "metadata": {},
   "source": [
    "<b>Singly Linked List Cycle Check</b>\n",
    "\n",
    "Problem\n",
    "\n",
    "Given a singly linked list, write a function which takes in the first node in a singly linked list and returns a boolean indicating if the linked list contains a \"cycle\".\n",
    "\n",
    "A cycle is when a node's next point actually points back to a previous node in the list. This is also sometimes known as a circularly linked list.\n",
    "\n",
    "You've been given the Linked List Node class code:"
   ]
  },
  {
   "cell_type": "code",
   "execution_count": 21,
   "metadata": {},
   "outputs": [],
   "source": [
    "class Node(object):\n",
    "    def __init__(self, value):\n",
    "        self.value = value\n",
    "        self.nextNode = None"
   ]
  },
  {
   "cell_type": "code",
   "execution_count": 22,
   "metadata": {},
   "outputs": [],
   "source": [
    "# Cycle Linked List\n",
    "a = Node(1)\n",
    "b = Node(2)\n",
    "c = Node(3)\n",
    "\n",
    "a.nextNode = b\n",
    "b.nextNode = c\n",
    "c.nextNode = a"
   ]
  },
  {
   "cell_type": "code",
   "execution_count": 23,
   "metadata": {},
   "outputs": [],
   "source": [
    "# Non Cycle Linked List\n",
    "x = Node(1)\n",
    "y = Node(2)\n",
    "\n",
    "x.nextNode = y"
   ]
  },
  {
   "cell_type": "code",
   "execution_count": 24,
   "metadata": {},
   "outputs": [],
   "source": [
    "# Node with single value\n",
    "p = Node(1)\n",
    "p.nextNode = p"
   ]
  },
  {
   "cell_type": "code",
   "execution_count": 25,
   "metadata": {},
   "outputs": [],
   "source": [
    "def cycle_check(node):\n",
    "    slow = node\n",
    "    fast = node\n",
    "    \n",
    "    while fast != None:\n",
    "        fast = fast.nextNode\n",
    "        if fast == slow:\n",
    "            return True\n",
    "    return False"
   ]
  },
  {
   "cell_type": "code",
   "execution_count": 26,
   "metadata": {},
   "outputs": [
    {
     "data": {
      "text/plain": [
       "True"
      ]
     },
     "execution_count": 26,
     "metadata": {},
     "output_type": "execute_result"
    }
   ],
   "source": [
    "cycle_check(a)"
   ]
  },
  {
   "cell_type": "code",
   "execution_count": 27,
   "metadata": {},
   "outputs": [
    {
     "name": "stdout",
     "output_type": "stream",
     "text": [
      "All the tests are Passed!\n"
     ]
    }
   ],
   "source": [
    "from nose.tools import assert_equal\n",
    "\n",
    "class CycleCheckTest(object):\n",
    "    def test(self,sol):\n",
    "        assert_equal(sol(a),True)\n",
    "        assert_equal(sol(x),False)\n",
    "        assert_equal(sol(p),True)\n",
    "        print('All the tests are Passed!')\n",
    "        \n",
    "cct = CycleCheckTest()\n",
    "cct.test(cycle_check)"
   ]
  },
  {
   "cell_type": "code",
   "execution_count": null,
   "metadata": {},
   "outputs": [],
   "source": []
  },
  {
   "cell_type": "markdown",
   "metadata": {},
   "source": [
    "<b>Linked List Reversal inplace"
   ]
  },
  {
   "cell_type": "code",
   "execution_count": 33,
   "metadata": {},
   "outputs": [],
   "source": [
    "class Node(object):\n",
    "    def __init__(self,value):\n",
    "        self.value = value\n",
    "        self.nextNode = None"
   ]
  },
  {
   "cell_type": "code",
   "execution_count": 34,
   "metadata": {},
   "outputs": [],
   "source": [
    "a = Node(1)\n",
    "b = Node(2)\n",
    "c = Node(3)\n",
    "d = Node(4)\n",
    "\n",
    "a.nextNode = b\n",
    "b.nextNode = c\n",
    "c.nextNode = d"
   ]
  },
  {
   "cell_type": "code",
   "execution_count": 35,
   "metadata": {},
   "outputs": [
    {
     "name": "stdout",
     "output_type": "stream",
     "text": [
      "2\n",
      "3\n",
      "4\n"
     ]
    }
   ],
   "source": [
    "print(a.nextNode.value)\n",
    "print(b.nextNode.value)\n",
    "print(c.nextNode.value)\n",
    "#d.nextNode.value       AttributeError: 'NoneType' object has no attribute 'value'"
   ]
  },
  {
   "cell_type": "code",
   "execution_count": 37,
   "metadata": {},
   "outputs": [],
   "source": [
    "def reverse(head):\n",
    "    nxt = None\n",
    "    pre = None\n",
    "    cur = head\n",
    "    \n",
    "    while cur:\n",
    "        nxt = cur.nextNode\n",
    "        \n",
    "        cur.nextNode = pre\n",
    "        \n",
    "        pre = cur\n",
    "        cur = nxt\n",
    "        \n",
    "    return pre"
   ]
  },
  {
   "cell_type": "code",
   "execution_count": 38,
   "metadata": {},
   "outputs": [
    {
     "data": {
      "text/plain": [
       "<__main__.Node at 0x5d6cfd0>"
      ]
     },
     "execution_count": 38,
     "metadata": {},
     "output_type": "execute_result"
    }
   ],
   "source": [
    "reverse(a)"
   ]
  },
  {
   "cell_type": "code",
   "execution_count": 41,
   "metadata": {},
   "outputs": [
    {
     "name": "stdout",
     "output_type": "stream",
     "text": [
      "3\n",
      "2\n",
      "1\n"
     ]
    }
   ],
   "source": [
    "print(d.nextNode.value)\n",
    "print(c.nextNode.value)\n",
    "print(b.nextNode.value)\n",
    "print(a.nextNode.value) #AttributeError: 'NoneType' object has no attribute 'value'"
   ]
  },
  {
   "cell_type": "code",
   "execution_count": null,
   "metadata": {},
   "outputs": [],
   "source": []
  }
 ],
 "metadata": {
  "kernelspec": {
   "display_name": "Python 3",
   "language": "python",
   "name": "python3"
  },
  "language_info": {
   "codemirror_mode": {
    "name": "ipython",
    "version": 3
   },
   "file_extension": ".py",
   "mimetype": "text/x-python",
   "name": "python",
   "nbconvert_exporter": "python",
   "pygments_lexer": "ipython3",
   "version": "3.6.4"
  }
 },
 "nbformat": 4,
 "nbformat_minor": 2
}
