{
 "cells": [
  {
   "cell_type": "markdown",
   "metadata": {},
   "source": [
    "<b>in</b> operator"
   ]
  },
  {
   "cell_type": "code",
   "execution_count": 1,
   "metadata": {},
   "outputs": [
    {
     "data": {
      "text/plain": [
       "False"
      ]
     },
     "execution_count": 1,
     "metadata": {},
     "output_type": "execute_result"
    }
   ],
   "source": [
    "15 in [2,3,4,6]"
   ]
  },
  {
   "cell_type": "code",
   "execution_count": 2,
   "metadata": {},
   "outputs": [
    {
     "data": {
      "text/plain": [
       "True"
      ]
     },
     "execution_count": 2,
     "metadata": {},
     "output_type": "execute_result"
    }
   ],
   "source": [
    "3 in [2,3,4,6]"
   ]
  },
  {
   "cell_type": "code",
   "execution_count": null,
   "metadata": {},
   "outputs": [],
   "source": []
  },
  {
   "cell_type": "markdown",
   "metadata": {},
   "source": [
    "<b>Sequential Search"
   ]
  },
  {
   "cell_type": "code",
   "execution_count": null,
   "metadata": {},
   "outputs": [],
   "source": [
    "#unordered list     best Avg Worst\n",
    "#item is present    1     n    n/2\n",
    "#item not present   n     n     n\n",
    "\n",
    "#ordered list\n",
    "#item present       1     n    n/2\n",
    "#item not present   1     n    n/2"
   ]
  },
  {
   "cell_type": "code",
   "execution_count": 8,
   "metadata": {},
   "outputs": [],
   "source": [
    "def seq_search(arr,ele):\n",
    "    pos = 0\n",
    "    found = False\n",
    "    \n",
    "    while pos<len(arr) and not found:\n",
    "        if (arr[pos]==ele):\n",
    "            found = True\n",
    "        else:\n",
    "            pos += 1\n",
    "            \n",
    "    return found"
   ]
  },
  {
   "cell_type": "code",
   "execution_count": 9,
   "metadata": {},
   "outputs": [
    {
     "data": {
      "text/plain": [
       "False"
      ]
     },
     "execution_count": 9,
     "metadata": {},
     "output_type": "execute_result"
    }
   ],
   "source": [
    "arr = [1,2,3,4,5]\n",
    "seq_search(arr,6)"
   ]
  },
  {
   "cell_type": "code",
   "execution_count": 10,
   "metadata": {},
   "outputs": [
    {
     "data": {
      "text/plain": [
       "True"
      ]
     },
     "execution_count": 10,
     "metadata": {},
     "output_type": "execute_result"
    }
   ],
   "source": [
    "arr = [1,2,3,4,5]\n",
    "seq_search(arr,5)"
   ]
  },
  {
   "cell_type": "code",
   "execution_count": null,
   "metadata": {},
   "outputs": [],
   "source": []
  },
  {
   "cell_type": "code",
   "execution_count": 11,
   "metadata": {},
   "outputs": [],
   "source": [
    "def ordered_seq_search(arr,ele):\n",
    "    '''\n",
    "    Input array must be ordered\n",
    "    '''\n",
    "    \n",
    "    pos = 0\n",
    "    found = False\n",
    "    stopped = False\n",
    "    \n",
    "    while pos<len(arr) and not found and not stopped:\n",
    "        if (arr[pos]==ele):\n",
    "            found = True\n",
    "        else:\n",
    "            if arr[pos] > ele:\n",
    "                stopped = True\n",
    "            else:\n",
    "                pos += 1\n",
    "    return found"
   ]
  },
  {
   "cell_type": "code",
   "execution_count": 12,
   "metadata": {},
   "outputs": [
    {
     "data": {
      "text/plain": [
       "True"
      ]
     },
     "execution_count": 12,
     "metadata": {},
     "output_type": "execute_result"
    }
   ],
   "source": [
    "arr = [1,2,3,4,5,6,7,8]\n",
    "ordered_seq_search(arr,5)"
   ]
  },
  {
   "cell_type": "code",
   "execution_count": null,
   "metadata": {},
   "outputs": [],
   "source": []
  },
  {
   "cell_type": "markdown",
   "metadata": {},
   "source": [
    "<b> Binary Search "
   ]
  },
  {
   "cell_type": "code",
   "execution_count": 21,
   "metadata": {},
   "outputs": [],
   "source": [
    "def binary_search(arr,ele):\n",
    "    first = 0\n",
    "    last = len(arr)-1\n",
    "    \n",
    "    found = False\n",
    "    \n",
    "    while first <= last and not found:\n",
    "        mid = (first + last) // 2\n",
    "        \n",
    "        if arr[mid] == ele:\n",
    "            found = True\n",
    "            \n",
    "        else:\n",
    "            if ele < arr[mid]:\n",
    "                last = mid - 1\n",
    "            else:\n",
    "                first = mid + 1\n",
    "\n",
    "    return found"
   ]
  },
  {
   "cell_type": "code",
   "execution_count": 22,
   "metadata": {},
   "outputs": [
    {
     "data": {
      "text/plain": [
       "True"
      ]
     },
     "execution_count": 22,
     "metadata": {},
     "output_type": "execute_result"
    }
   ],
   "source": [
    "arr = [1,2,3,4,5,6,7]\n",
    "binary_search(arr,4)"
   ]
  },
  {
   "cell_type": "code",
   "execution_count": 23,
   "metadata": {},
   "outputs": [
    {
     "data": {
      "text/plain": [
       "False"
      ]
     },
     "execution_count": 23,
     "metadata": {},
     "output_type": "execute_result"
    }
   ],
   "source": [
    "arr = [1,2,3,4,5,6,7]\n",
    "binary_search(arr,9)"
   ]
  },
  {
   "cell_type": "code",
   "execution_count": null,
   "metadata": {},
   "outputs": [],
   "source": []
  },
  {
   "cell_type": "code",
   "execution_count": 28,
   "metadata": {},
   "outputs": [],
   "source": [
    "def rec_bin_search(arr,ele):\n",
    "    if len(arr) == 0:\n",
    "        return False\n",
    "    else:\n",
    "        mid = len(arr)//2\n",
    "        \n",
    "        if arr[mid] == ele:\n",
    "            return True\n",
    "        else:\n",
    "            if ele < arr[mid]:\n",
    "                return rec_bin_search(arr[:mid],ele)\n",
    "            else:\n",
    "                return rec_bin_search(arr[mid+1:],ele)"
   ]
  },
  {
   "cell_type": "code",
   "execution_count": 29,
   "metadata": {},
   "outputs": [
    {
     "data": {
      "text/plain": [
       "True"
      ]
     },
     "execution_count": 29,
     "metadata": {},
     "output_type": "execute_result"
    }
   ],
   "source": [
    "arr = [1,2,3,4,5,6,7]\n",
    "rec_bin_search(arr,4)"
   ]
  },
  {
   "cell_type": "code",
   "execution_count": 30,
   "metadata": {},
   "outputs": [
    {
     "data": {
      "text/plain": [
       "False"
      ]
     },
     "execution_count": 30,
     "metadata": {},
     "output_type": "execute_result"
    }
   ],
   "source": [
    "arr = [1,2,3,4,5,6,7]\n",
    "binary_search(arr,9)"
   ]
  },
  {
   "cell_type": "code",
   "execution_count": null,
   "metadata": {},
   "outputs": [],
   "source": []
  },
  {
   "cell_type": "markdown",
   "metadata": {},
   "source": [
    "<b>Hashing</b>"
   ]
  },
  {
   "cell_type": "markdown",
   "metadata": {},
   "source": [
    "data structure that can be search in <b>O(1)</b>\n",
    "\n",
    "collection of item stored such thet retrival is easier - slots - slot 0, slot 1, slot 2, ... 0 and m-1\n",
    "\n",
    "<b>hash table</b> - table where data is stored - implement with list\n",
    "\n",
    "<b>hash function</b> - mapping between item and slot"
   ]
  },
  {
   "cell_type": "markdown",
   "metadata": {},
   "source": [
    "<b>Remainder method : </b>\n",
    "\n",
    "<b>Hash function</b> ---> item / size of table = slot no\n",
    "\n",
    "    items: 54,25,93,17,77,31\n",
    "\n",
    "    size of hash table: 11\n",
    "\n",
    "    h(item) = item%11\n",
    "    \n",
    "    items : 54,25,93,17,77,31  % 11\n",
    "    slots : 10, 3, 5, 6, 0, 9  (remainder)\n",
    "        \n",
    "<b>Load factor</b> : occupy 6/11 slots = number_of_items / table_size\n",
    "\n",
    "<b>collision</b> : 44%11, 77%11\n",
    "\n",
    "<b>Perfect Hash function </b>: map each item into unique slot, minimise collision"
   ]
  },
  {
   "cell_type": "markdown",
   "metadata": {},
   "source": [
    "<b>folding Method:</b>\n",
    "\n",
    "    Divide item of equal size piece except the last piece \n",
    "\n",
    "    added these pieces to give hash value\n",
    "\n",
    "    436-555-4601 - divide in groups of 2 (46,65,55,46,01) sum = (46+65+55+46+01)=210\n",
    "\n",
    "    if 11 slots = 210%11 = 1 --> slot 1"
   ]
  },
  {
   "cell_type": "markdown",
   "metadata": {},
   "source": [
    "<b>mid square method: </b>\n",
    "\n",
    "    square the item and extract middle portion to perform the rermainder step\n",
    "\n",
    "    sq(44) = 1936\n",
    "\n",
    "    93%11 = 5"
   ]
  },
  {
   "cell_type": "markdown",
   "metadata": {},
   "source": [
    "<b> Non integer element </b>\n",
    "\n",
    "\"cat\" : seq of ordinal values (convert to numbers)"
   ]
  },
  {
   "cell_type": "code",
   "execution_count": 36,
   "metadata": {},
   "outputs": [
    {
     "data": {
      "text/plain": [
       "99"
      ]
     },
     "execution_count": 36,
     "metadata": {},
     "output_type": "execute_result"
    }
   ],
   "source": [
    "ord('c')"
   ]
  },
  {
   "cell_type": "code",
   "execution_count": 34,
   "metadata": {},
   "outputs": [
    {
     "data": {
      "text/plain": [
       "97"
      ]
     },
     "execution_count": 34,
     "metadata": {},
     "output_type": "execute_result"
    }
   ],
   "source": [
    "ord('a')"
   ]
  },
  {
   "cell_type": "code",
   "execution_count": 35,
   "metadata": {},
   "outputs": [
    {
     "data": {
      "text/plain": [
       "116"
      ]
     },
     "execution_count": 35,
     "metadata": {},
     "output_type": "execute_result"
    }
   ],
   "source": [
    "ord('t')"
   ]
  },
  {
   "cell_type": "code",
   "execution_count": 38,
   "metadata": {},
   "outputs": [
    {
     "data": {
      "text/plain": [
       "4"
      ]
     },
     "execution_count": 38,
     "metadata": {},
     "output_type": "execute_result"
    }
   ],
   "source": [
    "(99 + 97 + 116)%11"
   ]
  },
  {
   "cell_type": "code",
   "execution_count": null,
   "metadata": {},
   "outputs": [],
   "source": []
  },
  {
   "cell_type": "markdown",
   "metadata": {},
   "source": [
    "<b>Collesion Resolution</b>\n",
    "\n",
    "<b> Linear Probing :</b> Open addressing - Trying to search next empty slot\n",
    "\n",
    "    items: 54,25,93,17,77,31\n",
    "\n",
    "    size of hash table: 11\n",
    "\n",
    "    h(item) = item%11\n",
    "\n",
    "    items : 54,26,93,17,77,31  % 11\n",
    "    \n",
    "    slots : 10, 4, 5, 6, 0, 9  (remainder)\n",
    "    \n",
    "    - Add New element : 44, 55, 20\n",
    "    \n",
    "    77%11 = 0 (already present)\n",
    "    \n",
    "    44%11 = 0 (next available 1)\n",
    "    \n",
    "    55%11 = 0 (next available 2)\n",
    "    \n",
    "    20%11 = 9 (next available 3)"
   ]
  },
  {
   "cell_type": "markdown",
   "metadata": {},
   "source": [
    "<b>Quadratic Probing: </b> - Clustering - skip certain number unlike in Linear Probing - constant skip value"
   ]
  },
  {
   "cell_type": "markdown",
   "metadata": {},
   "source": [
    "<b>Rehashing : </b>\n",
    "\n",
    "Looking for another slot after collision.\n",
    "\n",
    "instead of constant skip value, we use rehash function that increment by hash value of 1,3,5,7,9,..\n",
    "\n",
    "first hash value h, successive h+1, h+4, h+9, h+16, and so on"
   ]
  },
  {
   "cell_type": "markdown",
   "metadata": {},
   "source": [
    "<b>Chaining :</b>\n",
    "\n",
    "allow slot to hold a reference to collection\n",
    "\n",
    "allows many items to exist at same location in hash table\n",
    "\n",
    "difficulty of search increase with the number of items"
   ]
  },
  {
   "cell_type": "code",
   "execution_count": null,
   "metadata": {},
   "outputs": [],
   "source": []
  }
 ],
 "metadata": {
  "kernelspec": {
   "display_name": "Python 3",
   "language": "python",
   "name": "python3"
  },
  "language_info": {
   "codemirror_mode": {
    "name": "ipython",
    "version": 3
   },
   "file_extension": ".py",
   "mimetype": "text/x-python",
   "name": "python",
   "nbconvert_exporter": "python",
   "pygments_lexer": "ipython3",
   "version": "3.6.4"
  }
 },
 "nbformat": 4,
 "nbformat_minor": 2
}
