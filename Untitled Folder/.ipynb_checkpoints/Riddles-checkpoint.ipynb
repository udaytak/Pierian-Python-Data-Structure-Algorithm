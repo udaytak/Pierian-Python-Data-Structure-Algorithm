{
 "cells": [
  {
   "cell_type": "markdown",
   "metadata": {},
   "source": [
    "<b> Riddles </b>\n",
    "- Trick Que\n",
    "- Estimation problem\n",
    "- Math puzzle\n",
    "\n",
    "Solving Riddle -\n",
    "- connect with some law of computer science, fundamental Data structure or algorithm\n",
    "- if stuck, simplify the problem, break down the problem\n",
    "- solve for small number of items, then generalize"
   ]
  },
  {
   "cell_type": "code",
   "execution_count": null,
   "metadata": {},
   "outputs": [],
   "source": []
  },
  {
   "cell_type": "markdown",
   "metadata": {},
   "source": [
    "<b> Bridge Crossing </b> \n",
    "\n",
    "4 travelers ( 1min, 2min, 5 min, 10 min). bridge can hold 2 people at the most, 1 flashlight. Least amount of time?\n",
    "\n",
    "02 - (1) & (2) Cross with Torch\n",
    "\n",
    "01 - (1) Returns with Torch\n",
    "\n",
    "10 - (5) & (10) Cross with Torch\n",
    "\n",
    "02 - (2) Returns with Torch\n",
    "\n",
    "02 - (1) & (2) Cross with Torch\n",
    "\n",
    "17"
   ]
  },
  {
   "cell_type": "code",
   "execution_count": null,
   "metadata": {},
   "outputs": [],
   "source": []
  },
  {
   "cell_type": "markdown",
   "metadata": {},
   "source": [
    "<b> Conins and Scale </b>\n",
    "\n",
    "8 coins (1 heavier, 7 same), 2 pan scale. Min no of weighing to find heavier coin?\n",
    "\n",
    "8 : 2 X 3 X 3 - Find heavier group\n",
    "\n",
    "2 : (1 X 1)\n",
    "3 : (1 X 1 X 1)\n",
    "3 : (1 X 1 X 1)\n",
    "\n",
    "Just 2 times weighing"
   ]
  },
  {
   "cell_type": "code",
   "execution_count": null,
   "metadata": {},
   "outputs": [],
   "source": []
  },
  {
   "cell_type": "markdown",
   "metadata": {},
   "source": [
    "<b> Egg Drop </b>\n",
    "\n",
    "100 steps. Two eggs. The eggs are strong enough that they can be dropped from a particular floor in the tower without breaking. You've been tasked to find the highest floor an egg can be dropped without breaking, in as few drops as possible.\n",
    "\n",
    "Solution:\n",
    "- Start from the 10th floor and go up to floors in multiples of 10.\n",
    "- If first egg breaks, say at 20th floor then you can check all the floors between 11th and 19th\n",
    "- worst-case number of drops is 19. 99th floor. first egg 10 times, second egg 9 times in linear fashion.\n",
    "\n",
    "Best solution:\n",
    "- For 200 steps. Would the step value be still 10? We are trying to minimize the worst-case number.\n",
    "- Take some step value m initially. If every subsequent step is m-1,\n",
    "- m + m-1 + m-2 + ... + 1 = n\n",
    "- This is m*(m-1)/2 = n \n",
    "- so, n =100, then m would be 13.65. Since we can't drop from a decimal of a floor, we actually use 14\n",
    "- Worst case 14 floors with number of drops being 14\n",
    "- Note that this is simply a binary search! 100, 50, 25, 13, 7, 4, 2, 1"
   ]
  },
  {
   "cell_type": "code",
   "execution_count": null,
   "metadata": {},
   "outputs": [],
   "source": []
  },
  {
   "cell_type": "markdown",
   "metadata": {},
   "source": [
    "<b>Hallway Lockers</b>\n",
    "\n",
    "100 lockers. Start with one pass and open the lockers, so that the opened lockers. 2nd pass You begin by closing every second locker, and so on.. After your hundredth pass of the hallway, in which you toggle only locker number 100, how many lockers are open?\n",
    "\n",
    "Solution: \n",
    "- consider pass 12\n",
    "    - On pass 2: 2,4,6,8,10,12\n",
    "    - On pass 3: 3,6,9,12\n",
    "    - On pass 4: 4,8,12\n",
    "    - On pass 5: 5,10 No toggle on this pass\n",
    "    - On pass 6: 6,12\n",
    "    - On pass 7: 7,14 No toggle on this pass etc...\n",
    "- pass 12 loker is closed. (1,2,3,4,6,12). if a locker is toggled an even number of times, then it ends closed.\n",
    "\n",
    "- if i is factor of n, that means i times j is n. that means j is factor of n too. (iXj = jXi = n). \n",
    "- so the number of factors is usually even because factors tend to come in pairs, (i,j). so two numbers will always be involved, but what if they are both the same number (that is, i = j), i × i = n. \n",
    "- Therefore, n must be a perfect square - 1, 4, 9, 16, 25, 36, 49, 64, 81, and 100. So 10 lockers would remain open."
   ]
  },
  {
   "cell_type": "code",
   "execution_count": null,
   "metadata": {},
   "outputs": [],
   "source": []
  },
  {
   "cell_type": "markdown",
   "metadata": {},
   "source": [
    "<b>Jugs of water</b>\n",
    "\n",
    "5 gallons jug and a 3 gallons jug. Measure exactly 4 gallons of water?\n",
    "\n",
    "Solution:\n",
    "    \n",
    "3 5 -Action\n",
    "\n",
    "0 5 -fill 5 gal.\n",
    "\n",
    "3 2 -fill 3 gal from 5 gal.\n",
    "\n",
    "0 2 -pour 3 gal.\n",
    "\n",
    "2 0 -pour 2 gal in 3 gal.\n",
    "\n",
    "2 5 -fill 5 gal.\n",
    "\n",
    "3 4 -fill 3 gal from 5 gal."
   ]
  },
  {
   "cell_type": "code",
   "execution_count": null,
   "metadata": {},
   "outputs": [],
   "source": []
  },
  {
   "cell_type": "markdown",
   "metadata": {},
   "source": [
    "<b>Light Switch</b>\n",
    "\n",
    "three light switches, all of which are off. Each switch activates a different incandescent light bulb. You cannot see the lights from where the switches are. determine which light corresponds to each switch. However, you may go into the room with the lights only once.\n",
    "\n",
    "Solution: turn on switch 1, wait for 15 minutes untill the bulb is hot. Then turn it off and turn on switch 2.\n",
    "- hot bulb corresponds to switch 1\n",
    "- on bulb corresponds to switch 2\n",
    "- off bulb corresponds to switch 3"
   ]
  },
  {
   "cell_type": "code",
   "execution_count": null,
   "metadata": {},
   "outputs": [],
   "source": []
  },
  {
   "cell_type": "markdown",
   "metadata": {},
   "source": [
    "<b>Burning Ropes</b>\n",
    "\n",
    "You have two ropes. Each takes exactly 60 minutes to burn. How do you measure out exactly 45 minutes?\n",
    "\n",
    "Solution:\n",
    "- Take one rope and burn it at both ends. At the same time, burn one end of the other rope. - 30 mins. \n",
    "- burn other end of 2nd rope - 15 mins"
   ]
  },
  {
   "cell_type": "code",
   "execution_count": null,
   "metadata": {},
   "outputs": [],
   "source": []
  }
 ],
 "metadata": {
  "kernelspec": {
   "display_name": "Python 3",
   "language": "python",
   "name": "python3"
  },
  "language_info": {
   "codemirror_mode": {
    "name": "ipython",
    "version": 3
   },
   "file_extension": ".py",
   "mimetype": "text/x-python",
   "name": "python",
   "nbconvert_exporter": "python",
   "pygments_lexer": "ipython3",
   "version": "3.6.4"
  }
 },
 "nbformat": 4,
 "nbformat_minor": 2
}
