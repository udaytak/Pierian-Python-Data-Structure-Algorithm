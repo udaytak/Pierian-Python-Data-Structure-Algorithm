{
 "cells": [
  {
   "cell_type": "code",
   "execution_count": 149,
   "metadata": {},
   "outputs": [],
   "source": [
    "def compress(s1):\n",
    "    count = 0\n",
    "    r = ''\n",
    "    last = ''\n",
    "    \n",
    "    if(s1==''):\n",
    "        return''\n",
    "    \n",
    "    i = 0\n",
    "    length = len(s1)\n",
    "    \n",
    "    while(i < length):\n",
    "\n",
    "        if(i==0):\n",
    "            count = 1\n",
    "            r += s1[i]\n",
    "            last = s1[i]\n",
    "\n",
    "        elif(s1[i] == last):\n",
    "            count += 1\n",
    "\n",
    "        else:\n",
    "#            print(str(count))\n",
    "            r = r + str(count)\n",
    "            last = s1[i]\n",
    "            count = 1\n",
    "            r += s1[i]\n",
    "        i+=1\n",
    "    r = r + str(count)               \n",
    "    return r    "
   ]
  },
  {
   "cell_type": "code",
   "execution_count": 150,
   "metadata": {},
   "outputs": [
    {
     "data": {
      "text/plain": [
       "'a2b4c1'"
      ]
     },
     "execution_count": 150,
     "metadata": {},
     "output_type": "execute_result"
    }
   ],
   "source": [
    "string_Compression('aabbbbc')"
   ]
  },
  {
   "cell_type": "code",
   "execution_count": 151,
   "metadata": {},
   "outputs": [
    {
     "name": "stdout",
     "output_type": "stream",
     "text": [
      "All tests are passed\n"
     ]
    }
   ],
   "source": [
    "from nose.tools import assert_equal\n",
    "\n",
    "class TestStringCompression(object):\n",
    "    def test(self,sol):\n",
    "        assert_equal(sol('aabbbbc'),'a2b4c1')\n",
    "        assert_equal(sol(''), '')\n",
    "        assert_equal(sol('AABBCC'), 'A2B2C2')\n",
    "        assert_equal(sol('AAABCCDDDDD'), 'A3B1C2D5')\n",
    "        print('All tests are passed')\n",
    "        \n",
    "tsp = TestStringCompression()\n",
    "tsp.test(string_Compression)"
   ]
  },
  {
   "cell_type": "code",
   "execution_count": null,
   "metadata": {},
   "outputs": [],
   "source": []
  }
 ],
 "metadata": {
  "kernelspec": {
   "display_name": "Python 3",
   "language": "python",
   "name": "python3"
  },
  "language_info": {
   "codemirror_mode": {
    "name": "ipython",
    "version": 3
   },
   "file_extension": ".py",
   "mimetype": "text/x-python",
   "name": "python",
   "nbconvert_exporter": "python",
   "pygments_lexer": "ipython3",
   "version": "3.6.4"
  }
 },
 "nbformat": 4,
 "nbformat_minor": 2
}
