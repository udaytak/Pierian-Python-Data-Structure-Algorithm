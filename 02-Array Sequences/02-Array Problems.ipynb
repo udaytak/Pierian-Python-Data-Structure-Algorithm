{
 "cells": [
  {
   "cell_type": "markdown",
   "metadata": {},
   "source": [
    "# Anagram Check"
   ]
  },
  {
   "cell_type": "markdown",
   "metadata": {},
   "source": [
    "Problem:\n",
    "\n",
    "Given two strings, check to see if they are anagrams. An anagram is when the two strings can be written using the exact same letters (so you can just rearrange the letters to get a different phrase or word).\n",
    "\n",
    "For example:\n",
    "\n",
    "\"public relations\" is an anagram of \"crap built on lies.\"\n",
    "\n",
    "\"clint eastwood\" is an anagram of \"old west action\"\n",
    "\n",
    "Note: Ignore spaces and capitalization. So \"d go\" is an anagram of \"God\" and \"dog\" and \"o d g\"."
   ]
  },
  {
   "cell_type": "code",
   "execution_count": 9,
   "metadata": {},
   "outputs": [],
   "source": [
    "def Anagram(s,t):\n",
    "    '''\n",
    "    s - String1\n",
    "    t - String2\n",
    "    return Bool\n",
    "    '''\n",
    "    s = s.replace(' ','').lower()\n",
    "    t = t.replace(' ','').lower()\n",
    "    \n",
    "    if(len(s) != len(t)):\n",
    "        return False\n",
    "    \n",
    "    counter = {}\n",
    "    \n",
    "    for letter in s:\n",
    "        if letter in counter:\n",
    "            counter[letter] += 1\n",
    "        else:\n",
    "            counter[letter] = 1\n",
    "            \n",
    "    for letter in t:\n",
    "        if letter in counter:\n",
    "            counter[letter] -= 1\n",
    "        else:\n",
    "            return False\n",
    "        \n",
    "    for k in counter:\n",
    "        if counter[k]!=0:\n",
    "            return False\n",
    "    \n",
    "    return True    "
   ]
  },
  {
   "cell_type": "code",
   "execution_count": 10,
   "metadata": {},
   "outputs": [
    {
     "data": {
      "text/plain": [
       "True"
      ]
     },
     "execution_count": 10,
     "metadata": {},
     "output_type": "execute_result"
    }
   ],
   "source": [
    "anagram('dog','god')"
   ]
  },
  {
   "cell_type": "code",
   "execution_count": 11,
   "metadata": {},
   "outputs": [
    {
     "data": {
      "text/plain": [
       "True"
      ]
     },
     "execution_count": 11,
     "metadata": {},
     "output_type": "execute_result"
    }
   ],
   "source": [
    "anagram('clint eastwood','old west action')"
   ]
  },
  {
   "cell_type": "code",
   "execution_count": 12,
   "metadata": {},
   "outputs": [
    {
     "data": {
      "text/plain": [
       "False"
      ]
     },
     "execution_count": 12,
     "metadata": {},
     "output_type": "execute_result"
    }
   ],
   "source": [
    "anagram('aa','bb')"
   ]
  },
  {
   "cell_type": "code",
   "execution_count": 13,
   "metadata": {},
   "outputs": [
    {
     "data": {
      "text/plain": [
       "False"
      ]
     },
     "execution_count": 13,
     "metadata": {},
     "output_type": "execute_result"
    }
   ],
   "source": [
    "anagram('dog','odd')"
   ]
  },
  {
   "cell_type": "code",
   "execution_count": null,
   "metadata": {},
   "outputs": [],
   "source": []
  },
  {
   "cell_type": "markdown",
   "metadata": {},
   "source": [
    "Test for Solution"
   ]
  },
  {
   "cell_type": "code",
   "execution_count": null,
   "metadata": {},
   "outputs": [],
   "source": [
    "from nose.tools import assert_equal\n",
    "\n",
    "class AnagramTest(object):\n",
    "    def test(self, sol):\n",
    "        assert_equal(sol('go go go','gggooo'),True)\n",
    "        assert_equal(sol('abc','cba'),True)\n",
    "        assert_equal(sol('hi man','Hi     Man'),True)\n",
    "        assert_equal(sol('god','dog'),True)\n",
    "        assert_equal(sol('123','1 2'),False)\n",
    "        print('All tests are Passed')\n",
    "        \n",
    "#Run Test\n",
    "t = AnagramTest()\n",
    "t.test()"
   ]
  }
 ],
 "metadata": {
  "kernelspec": {
   "display_name": "Python 3",
   "language": "python",
   "name": "python3"
  },
  "language_info": {
   "codemirror_mode": {
    "name": "ipython",
    "version": 3
   },
   "file_extension": ".py",
   "mimetype": "text/x-python",
   "name": "python",
   "nbconvert_exporter": "python",
   "pygments_lexer": "ipython3",
   "version": "3.6.4"
  }
 },
 "nbformat": 4,
 "nbformat_minor": 2
}
