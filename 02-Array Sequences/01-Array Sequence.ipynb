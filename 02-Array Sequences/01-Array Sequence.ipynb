{
 "cells": [
  {
   "cell_type": "markdown",
   "metadata": {},
   "source": [
    "01- Array Sequence Introduction"
   ]
  },
  {
   "cell_type": "code",
   "execution_count": 1,
   "metadata": {},
   "outputs": [],
   "source": [
    "# List: [1,2,3]\n",
    "# Tuple: (1,2,3)\n",
    "# String: '123\n",
    "#support indexing (t[0])"
   ]
  },
  {
   "cell_type": "code",
   "execution_count": null,
   "metadata": {},
   "outputs": [],
   "source": []
  },
  {
   "cell_type": "markdown",
   "metadata": {},
   "source": [
    "02-Low Level Arrays"
   ]
  },
  {
   "cell_type": "markdown",
   "metadata": {},
   "source": [
    "Computer Memory"
   ]
  },
  {
   "cell_type": "code",
   "execution_count": 2,
   "metadata": {},
   "outputs": [],
   "source": [
    "# Memory sored - bits\n",
    "# Bytes - 8 bits\n",
    "# Byte number / information - Memory address\n",
    "# Ex : Byte number #2144 "
   ]
  },
  {
   "cell_type": "markdown",
   "metadata": {},
   "source": [
    "Array - Low Level Abstraction"
   ]
  },
  {
   "cell_type": "code",
   "execution_count": 3,
   "metadata": {},
   "outputs": [],
   "source": [
    "# Consecutive memory addresses\n",
    "# Computer hardware can access any byte of the memory efficiently using RAM. \n",
    "# Each individual byte of memory stored and retrieved O(1) time. #8675309 or #309\n",
    "# Programming language keep track of association between identifier and memory address\n",
    "# Ex1 : Video game - keep track of top 10 score \n",
    "#   - use single group contiguous memory location (array), than 10 different score"
   ]
  },
  {
   "cell_type": "code",
   "execution_count": null,
   "metadata": {},
   "outputs": [],
   "source": [
    "# Ex2 : text string - ordered string - each character 2 bytes\n",
    "# Array - 3 characters - SAM\n",
    "# Cells - S- #2146,2147, A- #2148,2149, M- #2150,2151 \n",
    "#       - 'M' stored at 2150 (Cell Requirement - Each cell use same byte of memory)\n",
    "# int Index - to describe location 0,1,2\n",
    "# Memory address calculated as - start + (cellsize)(index)\n",
    "# Access letter 'A' -> 2146 + (2)(1) -> 2148\n",
    "# High Level Abstraction : SAM - 012"
   ]
  },
  {
   "cell_type": "markdown",
   "metadata": {},
   "source": [
    "Referential Array"
   ]
  },
  {
   "cell_type": "code",
   "execution_count": 5,
   "metadata": {},
   "outputs": [],
   "source": [
    "# Array use object references\n",
    "# Ex : 100 student names - associated student id\n",
    "#      Array Structure - Names \n",
    "#    Approach 1 : Store Name String in Array - different lengths - Allocate maximum length - waste memory.\n",
    "#    Approach 2 : Referencing object - array of ids - references to String of Names."
   ]
  },
  {
   "cell_type": "code",
   "execution_count": 6,
   "metadata": {},
   "outputs": [],
   "source": [
    "# List and touples -  referencial structures\n",
    "# Single List can have multiple references to same object as element of list\n",
    "# Possible to have single element can be an element of 2 or more List\n",
    "# primes = 2,3,5,7,11,13,17,19\n",
    "# temp = primes[3:6]\n",
    "# temp[2] = 15 -> change existing reference. Not changing the current object"
   ]
  },
  {
   "cell_type": "code",
   "execution_count": 7,
   "metadata": {},
   "outputs": [],
   "source": [
    "# Shallow Copy\n",
    "#     -> backup = list(primes)-> shallow copy -> references same element\n",
    "# deep copy \n",
    "#     -> using deepcopy function from copy module -> new list with new elements"
   ]
  },
  {
   "cell_type": "code",
   "execution_count": 8,
   "metadata": {},
   "outputs": [],
   "source": [
    "# counters = [0]*8 -> All 8 elements reference the same object -> reference is immutable. \n",
    "# counters[2] += 1 -> does not change value of the integer instance -> set cell ref to new integer."
   ]
  },
  {
   "cell_type": "code",
   "execution_count": 9,
   "metadata": {},
   "outputs": [],
   "source": [
    "# primes.extend(extras) -> extended list receive references to the elements\n",
    "# prime[0,1,2,3,4,5,6,7] = 2,3,5,7,11,13,17,19\n",
    "# extras[0,1,2] = 23, 29, 31 "
   ]
  },
  {
   "cell_type": "code",
   "execution_count": null,
   "metadata": {},
   "outputs": [],
   "source": []
  },
  {
   "cell_type": "markdown",
   "metadata": {},
   "source": [
    "03-Dynamic Array"
   ]
  },
  {
   "cell_type": "code",
   "execution_count": 10,
   "metadata": {},
   "outputs": [],
   "source": [
    "# no need to specify how large the array is beforehand\n",
    "# list of 3 element - initial has greater capacity than current length\n",
    "# keep adding element to list - space run out - add extra space"
   ]
  },
  {
   "cell_type": "code",
   "execution_count": 22,
   "metadata": {},
   "outputs": [
    {
     "name": "stdout",
     "output_type": "stream",
     "text": [
      "Length of data:  0; Size of data in bytes:   64\n",
      "Length of data:  1; Size of data in bytes:   96\n",
      "Length of data:  2; Size of data in bytes:   96\n",
      "Length of data:  3; Size of data in bytes:   96\n",
      "Length of data:  4; Size of data in bytes:   96\n",
      "Length of data:  5; Size of data in bytes:  128\n",
      "Length of data:  6; Size of data in bytes:  128\n",
      "Length of data:  7; Size of data in bytes:  128\n",
      "Length of data:  8; Size of data in bytes:  128\n",
      "Length of data:  9; Size of data in bytes:  192\n",
      "Length of data: 10; Size of data in bytes:  192\n",
      "Length of data: 11; Size of data in bytes:  192\n",
      "Length of data: 12; Size of data in bytes:  192\n",
      "Length of data: 13; Size of data in bytes:  192\n",
      "Length of data: 14; Size of data in bytes:  192\n",
      "Length of data: 15; Size of data in bytes:  192\n",
      "Length of data: 16; Size of data in bytes:  192\n",
      "Length of data: 17; Size of data in bytes:  264\n",
      "Length of data: 18; Size of data in bytes:  264\n",
      "Length of data: 19; Size of data in bytes:  264\n",
      "Length of data: 20; Size of data in bytes:  264\n",
      "Length of data: 21; Size of data in bytes:  264\n",
      "Length of data: 22; Size of data in bytes:  264\n",
      "Length of data: 23; Size of data in bytes:  264\n",
      "Length of data: 24; Size of data in bytes:  264\n",
      "Length of data: 25; Size of data in bytes:  264\n",
      "Length of data: 26; Size of data in bytes:  344\n",
      "Length of data: 27; Size of data in bytes:  344\n",
      "Length of data: 28; Size of data in bytes:  344\n",
      "Length of data: 29; Size of data in bytes:  344\n",
      "Length of data: 30; Size of data in bytes:  344\n",
      "Length of data: 31; Size of data in bytes:  344\n",
      "Length of data: 32; Size of data in bytes:  344\n",
      "Length of data: 33; Size of data in bytes:  344\n",
      "Length of data: 34; Size of data in bytes:  344\n",
      "Length of data: 35; Size of data in bytes:  344\n",
      "Length of data: 36; Size of data in bytes:  432\n",
      "Length of data: 37; Size of data in bytes:  432\n",
      "Length of data: 38; Size of data in bytes:  432\n",
      "Length of data: 39; Size of data in bytes:  432\n",
      "Length of data: 40; Size of data in bytes:  432\n",
      "Length of data: 41; Size of data in bytes:  432\n",
      "Length of data: 42; Size of data in bytes:  432\n",
      "Length of data: 43; Size of data in bytes:  432\n",
      "Length of data: 44; Size of data in bytes:  432\n",
      "Length of data: 45; Size of data in bytes:  432\n",
      "Length of data: 46; Size of data in bytes:  432\n",
      "Length of data: 47; Size of data in bytes:  528\n",
      "Length of data: 48; Size of data in bytes:  528\n",
      "Length of data: 49; Size of data in bytes:  528\n"
     ]
    }
   ],
   "source": [
    "import sys\n",
    "\n",
    "n = 50 #Set n\n",
    "data = []\n",
    "\n",
    "for i in range(n):\n",
    "    a = len(data) # Number of elements\n",
    "    b = sys.getsizeof(data)\n",
    "    \n",
    "    print('Length of data: {0:2d}; Size of data in bytes: {1:4d}'.format(a,b))\n",
    "    \n",
    "    data.append(i) # increase Length by one"
   ]
  },
  {
   "cell_type": "code",
   "execution_count": 20,
   "metadata": {},
   "outputs": [],
   "source": [
    "# 1st: 64, next 4: 96, next 4: 128, next 8: 196..."
   ]
  },
  {
   "cell_type": "markdown",
   "metadata": {},
   "source": [
    "Grow an Array"
   ]
  },
  {
   "cell_type": "code",
   "execution_count": 23,
   "metadata": {},
   "outputs": [],
   "source": [
    "# Cant grow the array A. - > Array capacity is fixed. append to a list..\n",
    "# 1. Allocate new array B of larger capacity\n",
    "# 2. set B[i]=A[i] for n elements in A\n",
    "# 3. set A = B. Reassign reference of A. Henceforth B is the array supporting list. Old A - garbage collection\n",
    "# 4. Insert the new element in the new Array. "
   ]
  },
  {
   "cell_type": "code",
   "execution_count": null,
   "metadata": {},
   "outputs": [],
   "source": [
    "# New array - twice of existing (Rule)"
   ]
  }
 ],
 "metadata": {
  "kernelspec": {
   "display_name": "Python 3",
   "language": "python",
   "name": "python3"
  },
  "language_info": {
   "codemirror_mode": {
    "name": "ipython",
    "version": 3
   },
   "file_extension": ".py",
   "mimetype": "text/x-python",
   "name": "python",
   "nbconvert_exporter": "python",
   "pygments_lexer": "ipython3",
   "version": "3.6.4"
  }
 },
 "nbformat": 4,
 "nbformat_minor": 2
}
